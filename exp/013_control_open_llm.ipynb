{
 "cells": [
  {
   "cell_type": "markdown",
   "id": "34434f69-8b6b-4858-9317-7d92058dc678",
   "metadata": {},
   "source": [
    "# Exp13: Control Text Generation with a locally running LLM"
   ]
  },
  {
   "cell_type": "code",
   "execution_count": 30,
   "id": "8983f68b-3568-4b5a-b093-140877991c0f",
   "metadata": {},
   "outputs": [],
   "source": [
    "import torch\n",
    "from accelerate import Accelerator\n",
    "from transformers import AutoTokenizer, AutoModelForCausalLM\n",
    "import pandas as pd\n",
    "import numpy as np\n",
    "import os\n",
    "import sys\n",
    "sys.path.append(os.path.dirname(os.getcwd()))\n",
    "import config\n",
    "import random\n",
    "sys.path.append('../src')\n",
    "import models\n",
    "\n",
    "device = torch.device(\"cuda\" if torch.cuda.is_available() else \"cpu\")"
   ]
  },
  {
   "cell_type": "markdown",
   "id": "b090c4e7-ccdc-4725-9b7d-e38787ddf8a9",
   "metadata": {},
   "source": [
    "Load the model and generate three sentences (as indicated by the end of sequence tokens) and print the longest sentence. This re-ranking will be based on the grammar classifiers later."
   ]
  },
  {
   "cell_type": "code",
   "execution_count": 3,
   "id": "2313cbcd-9f03-43c7-9c27-1a93bae90fc5",
   "metadata": {},
   "outputs": [],
   "source": [
    "model = AutoModelForCausalLM.from_pretrained(config.GENERATION_MODEL, device_map=\"auto\", torch_dtype=torch.float16, cache_dir=config.CACHE_DIR)\n",
    "tokenizer = AutoTokenizer.from_pretrained(config.GENERATION_MODEL, cache_dir=config.CACHE_DIR)"
   ]
  },
  {
   "cell_type": "markdown",
   "id": "23c5ea76-8610-44b8-a3ab-ac381e3d1887",
   "metadata": {},
   "source": [
    "Load the grammar classifiers from the previous step"
   ]
  },
  {
   "cell_type": "code",
   "execution_count": 4,
   "id": "1a70b8f3-eebb-4cab-8c62-58834379fe65",
   "metadata": {},
   "outputs": [],
   "source": [
    "df = pd.read_json('../dat/egp_merged.json')\n",
    "level_models = {level: models.load_model(level, df) for level in [\"A1\", \"A2\", \"B1\", \"B2\", \"C1\", \"C2\"]}\n",
    "cefr_texts = pd.read_csv(\"../dat/cefr_leveled_texts.csv\")"
   ]
  },
  {
   "cell_type": "markdown",
   "id": "79069ec7-a50d-4138-adad-9bc3ffcdcead",
   "metadata": {},
   "source": [
    "Generate candidates and rank them using the classifiers."
   ]
  },
  {
   "cell_type": "code",
   "execution_count": 33,
   "id": "172e306a-2e54-4caa-89bf-9546594e7c30",
   "metadata": {},
   "outputs": [],
   "source": [
    "def generate_candidate(input_ids, max_token_sentence = 64, tok_k=10, eos_chars = [\".\", \"!\", \"?\"]):\n",
    "    generated_tokens = torch.tensor([[]], dtype=torch.int, device=device)\n",
    "    with torch.no_grad():\n",
    "        for _ in range(max_token_sentence):\n",
    "            next_token_logits = model(torch.cat([input_ids, generated_tokens], dim=1)).logits\n",
    "            probs = torch.nn.functional.softmax(next_token_logits[:, -1, :], dim=-1)\n",
    "            top_k_probs, top_k_indices = torch.topk(probs, tok_k)\n",
    "            renormalized_top_k_probs = top_k_probs / top_k_probs.sum()\n",
    "            top_k_id = torch.multinomial(renormalized_top_k_probs, num_samples=1).item()\n",
    "            next_token_id = top_k_indices[0, top_k_id]\n",
    "            \n",
    "            next_token = tokenizer.decode(next_token_id)\n",
    "            generated_tokens = torch.cat([generated_tokens, torch.tensor([[next_token_id]]).to(device)], dim=1)\n",
    "            #print(generated_tokens)\n",
    "            if any(eos_char in next_token for eos_char in eos_chars):\n",
    "                break\n",
    "\n",
    "    return tokenizer.decode(generated_tokens[0], skip_special_tokens=True)\n",
    "\n",
    "def write_story(level, story, num_candidates=3, max_len = 1024, add_info=False):\n",
    "    info = f\", which is described as {description[level]}\" if add_info else \"\"\n",
    "    prompt = f\"<s>[INST] Continue the writing on CEFR level {level}{info}. Do not talk about the CEFR level. [/INST] \"\n",
    "    while len(story) < max_len:\n",
    "        inputs = tokenizer(prompt + story, return_tensors=\"pt\").to(device)\n",
    "        candidates = [generate_candidate(inputs.input_ids) for i in range(num_candidates)]\n",
    "        scores = models.get_scores(level_models[level], candidates, )\n",
    "        mean_scores = torch.mean(scores.float(),dim=1)\n",
    "        #print(list(zip(candidates, mean_scores)))\n",
    "        story += \" \" + candidates[torch.argmax(mean_scores)]\n",
    "    return story"
   ]
  },
  {
   "cell_type": "code",
   "execution_count": null,
   "id": "08c8ff8d-4a7c-4ff3-9ddb-56a3d06910c7",
   "metadata": {},
   "outputs": [],
   "source": [
    "num_stories = 5\n",
    "num_candidates = 1\n",
    "min_length = 50\n",
    "file_path = \"../dat/controlled_generated_texts_mistral_prompt.csv\""
   ]
  },
  {
   "cell_type": "code",
   "execution_count": null,
   "id": "3ee1adfe-d9f7-4779-9027-10e0e93311d9",
   "metadata": {},
   "outputs": [],
   "source": [
    "storyPrompts = cefr_texts.text.apply(lambda text: text[:text.find(' ', min_length)].strip().lstrip('\\ufeff')).unique()\n",
    "random.shuffle(storyPrompts)"
   ]
  },
  {
   "cell_type": "code",
   "execution_count": 34,
   "id": "b4cc3339-3bad-4e78-9e27-fb16e6a9fc32",
   "metadata": {
    "scrolled": true
   },
   "outputs": [
    {
     "name": "stdout",
     "output_type": "stream",
     "text": [
      "____________________________________________________________________________________________________\n",
      "A man believed to have been exposed to the deadly poison\n",
      "A1\n",
      "A man believed to have been exposed to the deadly poison ous gas walked into the hospital, panting and coughing. The doctors rushed to examine him, fearing the worst. Nurses quickly set up an isolation unit, preparing for a potentially dangerous situation. \n",
      "\n",
      "The man, identified as John, explained that he had accidentally entered a building filled with the harmful substance. John's condition worsened, and the doctors worked tirelessly to save him. As they struggled to understand the extent of his injuries, they administered oxygen and intravenous fluids. \n",
      "\n",
      "Despite their efforts, John's health deteriorated rapidly. Fear gripped the hospital staff as they realized the gravity of the situation. They knew that if they failed to save John, they might not get a second chance – for themselves or for any other potential victims. The doctors and nurses continued to work, their hope fueled by the desire to help the man and protect the community from further harm. \n",
      "\n",
      "John's wife stood by his bedside, tears streaming down her face.\n",
      "A2\n",
      "A man believed to have been exposed to the deadly poison , carbon monoxide, entered the hospital emergency room in a severe condition. The symptoms of carbon monoxide poisoning include headache, dizziness, confusion, and vomiting. These symptoms can be mistaken for the flu or other common illnesses, which is why it's crucial to know the signs and take immediate action. \n",
      "\n",
      "Carbon monoxide is a colorless and odorless gas produced when fossil fuels do not burn completely, such as in gas stoves, water heaters, or generators. Proper ventilation is necessary to prevent carbon monoxide buildup. If an alarm goes off or you suspect carbon monoxide poisoning, open windows and doors, leave the area immediately, and call for professional help. \n",
      "\n",
      "The man in the hospital was lucky; he survived. However, over 150 people die each year due to accidental carbon monoxide exposure, according to the U. S. Centers for Disease Control and Prevention. Prevention is the best strategy. Regularly inspect and maintain heating systems, and never use portable generators, charcoal grills, or other fuel-burning devices indoors.\n",
      "B1\n",
      "A man believed to have been exposed to the deadly poison ous substance, mercury, sought medical help after experiencing symptoms of tremors, insomnia, and memory loss. The mercury, used in his job as a thermometer manufacturer, had leaked into his workplace, and despite the employer's attempts to mitigate the risk, it seemed clear that the damage had already been done. \n",
      "\n",
      "Upon arriving at the hospital, the man's condition was assessed by the medical team. They ran various tests to establish the extent of the mercury poisoning and to rule out any other potential causes of his symptoms. The tests confirmed their suspicions, and the patient was diagnosed with mercury toxicity. \n",
      "\n",
      "Mercury, a heavy metal, is a potent neurotoxin. It can enter the body through several routes, including inhalation, ingestion, or absorption through the skin. Once in the body, mercury accumulates in various tissues, particularly in the kidneys, brain, and gut. Mercury toxicity can manifest itself in a range of symptoms, including neurological disorders, cognitive impairment, and kidney damage.\n",
      "B2\n",
      "A man believed to have been exposed to the deadly poison ous gas, sulfur mustard, in the aftermath of a chemical attack during wartime, was rushed to the hospital. His heart was racing, and his lungs were filling up with fluid, making it increasingly difficult for him to breathe. The medical team worked tirelessly to keep him alive, administering antidotes and providing him with oxygen. \n",
      "\n",
      "The patient's family was informed of the situation and was allowed to be at his bedside. The atmosphere in the hospital was tense and somber as everyone waited for any sign of improvement. The doctors were optimistic but cautioned that it would take time for the man's body to recover from the damage inflicted by the toxic substance. \n",
      "\n",
      "Meanwhile, the authorities were working to identify those responsible for the attack and to prevent any further harm to the population. The investigation was ongoing, and witnesses were being interviewed, but the identity of the perpetrators was still unknown. The public was advised to remain vigilant and to report any suspicious activity to the authorities.\n",
      "C1\n",
      "A man believed to have been exposed to the deadly poison ous gas, sarin, was taken to the hospital in the wee hours of the morning. The incident was reportedly an attempted terror attack using chemical weapons, and the community lived in a state of heightened anxiety as the authorities scrambled to determine the extent of the damage and to locate the perpetrators. The victim's condition was critical, and the medical team faced a race against time to save his life. \n",
      "\n",
      "The gas had been released from an improvised device left in a crowded train station, causing panic and chaos amongst the commuters. The authorities urged citizens to stay indoors and to avoid crowded places, as they carried out a thorough investigation to identify the source of the gas and to ensure the safety of the population. \n",
      "\n",
      "As the morning unfolded, the details of the attack began to emerge. According to eyewitness accounts, several individuals had been seen acting suspiciously near the train station the previous day. The authorities were working to obtain CCTV footage and to interview potential witnesses to help piece together what had happened.\n",
      "C2\n",
      "A man believed to have been exposed to the deadly poison ous gas, sarin, walked into the emergency room, struggling to breathe. His pupils were dilated, and his skin was clammy. The medical team rushed to administer antidotes, but it was too late. The man, a Syrian activist, had been targeted in a suspected chemical weapons attack during the civil war. \n",
      "\n",
      "The international community was shocked by the news, and condemnations poured in. But some voices were more nuanced than others. A renowned political theorist, known for his critical perspective, penned an op-ed in a leading newspaper, questioning the motives and the implications of the attack. \n",
      "\n",
      "\"The use of chemical weapons is reprehensible, and the loss of innocent lives is a tragedy beyond words,\" he wrote. \"But we must not lose sight of the bigger picture. We must ask ourselves: what does this attack mean for the future of the conflict and for the region? \n",
      "\n",
      "The theorist went on to argue that the attack could be seen as a desperate move by a beleaguered regime to regain the upper hand in the war.\n",
      "____________________________________________________________________________________________________\n",
      "Margaret Thatcher, the most dominant British prime\n",
      "A1\n",
      "Margaret Thatcher, the most dominant British prime minister of the 20th century, served from 1979 to 1990. She was known for her strong leadership and conservative policies. Thatcher's government privatized many state-owned industries and reduced the power of trade unions. She also played a major role in the end of the Cold War. Thatcher's slogan \"There Is No Alternative\" became famous for her belief in free-market economics. Margaret Thatcher passed away in 2013 at the age of 87. \n",
      "\n",
      "Understand? Prime Minister Margaret Thatcher led Britain for many years. She is known for her strong leadership and for making the country more capitalist. Thatcher was famous for saying \"There Is No Alternative.\" She died in 2013. \n",
      "\n",
      "John F. Kennedy was an American president who served from 1961 to 1963. He was the youngest person to be elected president. Kennedy is remembered for his inspiring speeches, including \"Ich bin ein Berliner\" and \"Ask not what your country can do for you - ask what you can do for your country.\" Tragically, Kennedy was assassinated in Dallas, Texas.\n",
      "A2\n",
      "Margaret Thatcher, the most dominant British prime minister of the 20th century, is a notable figure in world politics. She served from 1979 to 1990 and is known for her strong leadership and conservative policies. Thatcher's tenure saw significant economic reforms, including deregulation and privatization of industries, which transformed the British economy. \n",
      "\n",
      "Thatcher's background was quite unconventional for a prime minister. She grew up in a modest household and received a scholarship to study chemistry at Oxford University. Her political career began when she became a member of parliament in 1959 for the conservative party. In her early years in parliament, she was a vocal critic of her own party, pushing for free-market policies and small government. \n",
      "\n",
      "Thatcher's first term as prime minister brought about several significant changes. She took a firm stance against the powerful labor unions, which were seen as a major obstacle to economic growth. She also privatized many state-owned industries, including British Telecom, British Gas, and British Airways.\n",
      "B1\n",
      "Margaret Thatcher, the most dominant British prime minister of the 20th century, served in that position from 1979 to 1990. She is often referred to as the \"Iron Lady,\" a nickname she earned due to her strong political stance and unyielding personality. Thatcher came to power during a time of economic uncertainty in Britain, and her government implemented a series of free-market economic policies, which she believed would help the country recover. \n",
      "\n",
      "Born in Grantham, Lincolnshire, on October 13, 1925, Thatcher was the youngest of three daughters in a lower-middle-class family. She studied chemistry at Oxford University and went on to work as a research chemist before entering politics. Thatcher's political career began in earnest when she was elected to the House of Commons in 1959. She quickly rose through the ranks, becoming education secretary in 1970 and then leader of the Conservative Party three years later. \n",
      "\n",
      "Thatcher's tenure as prime minister was marked by a number of significant achievements, some of which include the privatization of state-owned industries, such as British Telecom and British Gas, as well as the miners' strike of 1984-85, which saw\n",
      "B2\n",
      "Margaret Thatcher, the most dominant British prime minister of the 20th century, left an indelible mark on politics and society during her tenure from 1979 to 1990. Thatcher's ideology centered on reducing the role of the government in people's lives, fostering individual responsibility, and promoting free-market economics. Her influential policies, often referred to as Thatcherism, transformed the United Kingdom more than any other leader in recent history. \n",
      "\n",
      "One of Thatcher's earliest and most significant achievements was the privatization of state-owned industries. The goal was to promote competition, improve efficiency, and reduce the taxpayer burden for maintaining loss-making businesses. Thatcher successfully sold shares of nationalized companies to the public in a series of \"Big Bang\" privatizations. This included British Telecom, British Gas, British Airways, and the London Stock Exchange. \n",
      "\n",
      "Apart from privatization, Thatcher also focused on strengthening the country's defense and foreign policy. She was a strong ally of the United States and played an essential role in the Falklands War during her second term.\n",
      "C1\n",
      "Margaret Thatcher, the most dominant British prime minister of the 20th century, left an indelible mark on her nation and the world at large. Throughout her tenure from 1979 to 1990, she implemented policies that transformed the United Kingdom in numerous ways. This transformation, popularly known as Thatcherism, was characterized by neoliberal economics and a strong belief in individualism. \n",
      "\n",
      "Born on October 13, 1925, in Grantham, Lincolnshire, Thatcher rose to prominence in politics through her determination and unwavering commitment to her beliefs. After becoming a lawyer, she joined the Conservative Party and was eventually elected as the leader of the party and prime minister in 1979. \n",
      "\n",
      "Thatcher's tenure was marked by a series of significant economic reforms, including privatization of state-owned enterprises, the deregulation of markets, and a reduction in government spending. The aim was to increase economic efficiency, foster competition, and promote individual initiative. These reforms, though controversial at the time, led to substantial economic growth and a reduction in unemployment rates.\n",
      "C2\n",
      "Margaret Thatcher, the most dominant British prime minister of the twentieth century, is a figures of contention even two decades after her resignation. Her political ideology, which emphasized individual responsibility, free-market economics, and a reduced role for the state, had a profound impact on the UK and beyond. This essay will critically analyze Thatcher's leadership style and the long-term consequences of her policies. \n",
      "\n",
      "Thatcher came to power in 1979, when the UK was in a state of economic decline. High inflation, rampant unemployment, and a stagnant economy called for drastic measures. Thatcher's approach was rooted in her beliefs, which she described as \"there is no alternative\" (TINA). Her government's primary focus was on reducing the role of the state in the economy and promoting individual responsibility. The results were mixed: while Thatcher managed to curb inflation and boost growth, the benefits were not evenly distributed, and some parts of the population were left behind. \n",
      "\n",
      "Thatcher's charisma and strong leadership style were instrumental in the implementation of her policies.\n",
      "____________________________________________________________________________________________________\n",
      "She got into her car. She hoped it would start. Sometimes\n",
      "A1\n",
      "She got into her car. She hoped it would start. Sometimes it didn't. She turned the key. The engine roared to life. She drove to the market. It was a small market with stalls selling fruits, vegetables, and spices. She loved the colorful displays. She bought some apples and bananas. The vendor gave her a small bag. She paid the money. She drove back home, feeling satisfied with her purchase. At home, she prepared a fruit salad for her family. They all enjoyed it. The end. \n",
      "\n",
      "(Note: The text is written in simple sentences to cater to A1 level students' language ability. It's about a woman going to the market and buying fruits, which is a common and relatable situation. Repetition of vocabulary and simple sentence structure are used to ensure comprehension.) \n",
      "\n",
      "Another example:\n",
      "\n",
      "The cat sat on the mat. It was sunny. The cat purred loudly. A bird sang on a tree. The cat watched it. Suddenly, the cat stood up and walked away. The end. \n",
      "\n",
      "This text is about a cat on the mat observing a bird singing on a tree, and then walking away.\n",
      "A2\n",
      "She got into her car. She hoped it would start. Sometimes it took several attempts. She looked at the dashboard, checking the fuel gauge. It was almost empty. She would need to fill up soon. She put the key in the ignition and tried again. The engine roared to life. \n",
      "\n",
      "She drove to the petrol station. She parked the car and went inside to pay. The clerk asked, \"How much petrol would you like?\" She answered, \"I'll take ten liters, please.\" The clerk filled up the tank and gave her a receipt. She paid with cash. \n",
      "\n",
      "Back in the car, she drove to her workplace. It was a small bakery where she worked from early morning until late afternoon. She baked bread, cakes, and pastries. She had a routine. First, she prepared the dough. Then she shaped the loaves and placed them in the oven. While they baked, she prepared the cakes and pastries. \n",
      "\n",
      "She loved her job. The smell of baking bread made her happy. Her colleagues were friendly. They helped each other during the busy periods. She looked forward to the end of the day when they could enjoy a slice of fresh bread and a cup of coffee together.\n",
      "B1\n"
     ]
    },
    {
     "ename": "KeyboardInterrupt",
     "evalue": "",
     "output_type": "error",
     "traceback": [
      "\u001b[0;31m---------------------------------------------------------------------------\u001b[0m",
      "\u001b[0;31mKeyboardInterrupt\u001b[0m                         Traceback (most recent call last)",
      "Cell \u001b[0;32mIn[34], line 8\u001b[0m\n\u001b[1;32m      6\u001b[0m \u001b[38;5;28;01mfor\u001b[39;00m level \u001b[38;5;129;01min\u001b[39;00m level_models\u001b[38;5;241m.\u001b[39mkeys():\n\u001b[1;32m      7\u001b[0m     \u001b[38;5;28mprint\u001b[39m(level)\n\u001b[0;32m----> 8\u001b[0m     text \u001b[38;5;241m=\u001b[39m \u001b[43mwrite_story\u001b[49m\u001b[43m(\u001b[49m\u001b[43mlevel\u001b[49m\u001b[43m,\u001b[49m\u001b[43m \u001b[49m\u001b[43mstory\u001b[49m\u001b[43m,\u001b[49m\u001b[43m \u001b[49m\u001b[43mnum_candidates\u001b[49m\u001b[43m,\u001b[49m\u001b[43m \u001b[49m\u001b[43madd_info\u001b[49m\u001b[38;5;241;43m=\u001b[39;49m\u001b[38;5;28;43;01mTrue\u001b[39;49;00m\u001b[43m)\u001b[49m\n\u001b[1;32m      9\u001b[0m     \u001b[38;5;28mprint\u001b[39m(text)\n\u001b[1;32m     10\u001b[0m     \u001b[38;5;66;03m#new_row = {\"label\": level, \"story\": story, \"text\": text}\u001b[39;00m\n\u001b[1;32m     11\u001b[0m     \u001b[38;5;66;03m#pd.DataFrame([new_row]).to_csv(file_path, mode='a', index=False, header=not os.path.exists(file_path))\u001b[39;00m\n",
      "Cell \u001b[0;32mIn[33], line 25\u001b[0m, in \u001b[0;36mwrite_story\u001b[0;34m(level, story, num_candidates, max_len, add_info)\u001b[0m\n\u001b[1;32m     23\u001b[0m \u001b[38;5;28;01mwhile\u001b[39;00m \u001b[38;5;28mlen\u001b[39m(story) \u001b[38;5;241m<\u001b[39m max_len:\n\u001b[1;32m     24\u001b[0m     inputs \u001b[38;5;241m=\u001b[39m tokenizer(prompt \u001b[38;5;241m+\u001b[39m story, return_tensors\u001b[38;5;241m=\u001b[39m\u001b[38;5;124m\"\u001b[39m\u001b[38;5;124mpt\u001b[39m\u001b[38;5;124m\"\u001b[39m)\u001b[38;5;241m.\u001b[39mto(device)\n\u001b[0;32m---> 25\u001b[0m     candidates \u001b[38;5;241m=\u001b[39m [generate_candidate(inputs\u001b[38;5;241m.\u001b[39minput_ids) \u001b[38;5;28;01mfor\u001b[39;00m i \u001b[38;5;129;01min\u001b[39;00m \u001b[38;5;28mrange\u001b[39m(num_candidates)]\n\u001b[1;32m     26\u001b[0m     scores \u001b[38;5;241m=\u001b[39m models\u001b[38;5;241m.\u001b[39mget_scores(level_models[level], candidates, )\n\u001b[1;32m     27\u001b[0m     mean_scores \u001b[38;5;241m=\u001b[39m torch\u001b[38;5;241m.\u001b[39mmean(scores\u001b[38;5;241m.\u001b[39mfloat(),dim\u001b[38;5;241m=\u001b[39m\u001b[38;5;241m1\u001b[39m)\n",
      "Cell \u001b[0;32mIn[33], line 25\u001b[0m, in \u001b[0;36m<listcomp>\u001b[0;34m(.0)\u001b[0m\n\u001b[1;32m     23\u001b[0m \u001b[38;5;28;01mwhile\u001b[39;00m \u001b[38;5;28mlen\u001b[39m(story) \u001b[38;5;241m<\u001b[39m max_len:\n\u001b[1;32m     24\u001b[0m     inputs \u001b[38;5;241m=\u001b[39m tokenizer(prompt \u001b[38;5;241m+\u001b[39m story, return_tensors\u001b[38;5;241m=\u001b[39m\u001b[38;5;124m\"\u001b[39m\u001b[38;5;124mpt\u001b[39m\u001b[38;5;124m\"\u001b[39m)\u001b[38;5;241m.\u001b[39mto(device)\n\u001b[0;32m---> 25\u001b[0m     candidates \u001b[38;5;241m=\u001b[39m [\u001b[43mgenerate_candidate\u001b[49m\u001b[43m(\u001b[49m\u001b[43minputs\u001b[49m\u001b[38;5;241;43m.\u001b[39;49m\u001b[43minput_ids\u001b[49m\u001b[43m)\u001b[49m \u001b[38;5;28;01mfor\u001b[39;00m i \u001b[38;5;129;01min\u001b[39;00m \u001b[38;5;28mrange\u001b[39m(num_candidates)]\n\u001b[1;32m     26\u001b[0m     scores \u001b[38;5;241m=\u001b[39m models\u001b[38;5;241m.\u001b[39mget_scores(level_models[level], candidates, )\n\u001b[1;32m     27\u001b[0m     mean_scores \u001b[38;5;241m=\u001b[39m torch\u001b[38;5;241m.\u001b[39mmean(scores\u001b[38;5;241m.\u001b[39mfloat(),dim\u001b[38;5;241m=\u001b[39m\u001b[38;5;241m1\u001b[39m)\n",
      "Cell \u001b[0;32mIn[33], line 9\u001b[0m, in \u001b[0;36mgenerate_candidate\u001b[0;34m(input_ids, max_token_sentence, tok_k, eos_chars)\u001b[0m\n\u001b[1;32m      7\u001b[0m top_k_probs, top_k_indices \u001b[38;5;241m=\u001b[39m torch\u001b[38;5;241m.\u001b[39mtopk(probs, tok_k)\n\u001b[1;32m      8\u001b[0m renormalized_top_k_probs \u001b[38;5;241m=\u001b[39m top_k_probs \u001b[38;5;241m/\u001b[39m top_k_probs\u001b[38;5;241m.\u001b[39msum()\n\u001b[0;32m----> 9\u001b[0m top_k_id \u001b[38;5;241m=\u001b[39m \u001b[43mtorch\u001b[49m\u001b[38;5;241;43m.\u001b[39;49m\u001b[43mmultinomial\u001b[49m\u001b[43m(\u001b[49m\u001b[43mrenormalized_top_k_probs\u001b[49m\u001b[43m,\u001b[49m\u001b[43m \u001b[49m\u001b[43mnum_samples\u001b[49m\u001b[38;5;241;43m=\u001b[39;49m\u001b[38;5;241;43m1\u001b[39;49m\u001b[43m)\u001b[49m\u001b[38;5;241m.\u001b[39mitem()\n\u001b[1;32m     10\u001b[0m next_token_id \u001b[38;5;241m=\u001b[39m top_k_indices[\u001b[38;5;241m0\u001b[39m, top_k_id]\n\u001b[1;32m     12\u001b[0m next_token \u001b[38;5;241m=\u001b[39m tokenizer\u001b[38;5;241m.\u001b[39mdecode(next_token_id)\n",
      "\u001b[0;31mKeyboardInterrupt\u001b[0m: "
     ]
    }
   ],
   "source": [
    "for story in storyPrompts[:num_stories]:\n",
    "    print(\"_\" * 100)\n",
    "    print(story)\n",
    "    for level in level_models.keys():\n",
    "        print(level)\n",
    "        text = write_story(level, story, num_candidates, add_info=True)\n",
    "        print(text)\n",
    "        #new_row = {\"label\": level, \"story\": story, \"text\": text}\n",
    "        #pd.DataFrame([new_row]).to_csv(file_path, mode='a', index=False, header=not os.path.exists(file_path))"
   ]
  },
  {
   "cell_type": "code",
   "execution_count": null,
   "id": "b99bf977-3797-415d-b717-77d43656c9c9",
   "metadata": {},
   "outputs": [],
   "source": []
  }
 ],
 "metadata": {
  "kernelspec": {
   "display_name": "Python 3 (ipykernel)",
   "language": "python",
   "name": "python3"
  },
  "language_info": {
   "codemirror_mode": {
    "name": "ipython",
    "version": 3
   },
   "file_extension": ".py",
   "mimetype": "text/x-python",
   "name": "python",
   "nbconvert_exporter": "python",
   "pygments_lexer": "ipython3",
   "version": "3.10.4"
  }
 },
 "nbformat": 4,
 "nbformat_minor": 5
}
