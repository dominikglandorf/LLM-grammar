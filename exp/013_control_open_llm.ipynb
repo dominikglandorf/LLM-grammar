{
 "cells": [
  {
   "cell_type": "markdown",
   "id": "34434f69-8b6b-4858-9317-7d92058dc678",
   "metadata": {},
   "source": [
    "# Exp13: Control Text Generation with a locally running LLM"
   ]
  },
  {
   "cell_type": "code",
   "execution_count": null,
   "id": "8983f68b-3568-4b5a-b093-140877991c0f",
   "metadata": {},
   "outputs": [],
   "source": [
    "import torch\n",
    "from transformers import AutoTokenizer, AutoModelForSeq2SeqLM"
   ]
  },
  {
   "cell_type": "markdown",
   "id": "b090c4e7-ccdc-4725-9b7d-e38787ddf8a9",
   "metadata": {},
   "source": [
    "Configuration"
   ]
  },
  {
   "cell_type": "code",
   "execution_count": null,
   "id": "2313cbcd-9f03-43c7-9c27-1a93bae90fc5",
   "metadata": {},
   "outputs": [],
   "source": [
    "MODEL=\"mistralai/Mistral-7B-Instruct-v0.2\""
   ]
  },
  {
   "cell_type": "markdown",
   "id": "271b3c57-ddc2-49b7-ad99-fc397ef40d0d",
   "metadata": {},
   "source": [
    "Load the model and generate three sentences (as indicated by the end of sequence tokens) and print the longest sentence. This re-ranking will be based on the grammar classifiers later."
   ]
  },
  {
   "cell_type": "code",
   "execution_count": null,
   "id": "37a89801-6711-434f-bd65-4e2d1aacf143",
   "metadata": {},
   "outputs": [],
   "source": [
    "model = AutoModelForSeq2SeqLM.from_pretrained(MODEL, device_map=\"auto\", torch_dtype=torch.float16)\n",
    "tokenizer = AutoTokenizer.from_pretrained(MODEL)\n",
    "eos_tokens = [tokenizer.encode(eos, add_special_tokens=False)[0] for eos in ['.', ',', '?']]"
   ]
  },
  {
   "cell_type": "code",
   "execution_count": null,
   "id": "e47c1baf-c00b-4ba8-a99b-fc13f9a778de",
   "metadata": {},
   "outputs": [],
   "source": [
    "generated_sentences = []\n",
    "prompt = \"<s>[INST] What is your favourite condiment? [/INST]\"\n",
    "for _ in range(3):\n",
    "    inputs = tokenizer(prompt, return_tensors=\"pt\")\n",
    "    outputs = model.generate(**inputs, max_length=50, eos_token_id=eos_tokens)\n",
    "    generated_sentence = tokenizer.decode(outputs[0], skip_special_tokens=True)\n",
    "    generated_sentences.append(generated_sentence)"
   ]
  },
  {
   "cell_type": "code",
   "execution_count": null,
   "id": "91a6ef42-feef-4911-b641-bfc99ed4a05c",
   "metadata": {},
   "outputs": [],
   "source": [
    "longest_sentence = max(generated_sentences, key=len)\n",
    "print(\"Longest sentence:\", longest_sentence)"
   ]
  }
 ],
 "metadata": {
  "kernelspec": {
   "display_name": "Python 3 (ipykernel)",
   "language": "python",
   "name": "python3"
  },
  "language_info": {
   "codemirror_mode": {
    "name": "ipython",
    "version": 3
   },
   "file_extension": ".py",
   "mimetype": "text/x-python",
   "name": "python",
   "nbconvert_exporter": "python",
   "pygments_lexer": "ipython3",
   "version": "3.10.4"
  }
 },
 "nbformat": 4,
 "nbformat_minor": 5
}
