{
 "cells": [
  {
   "cell_type": "markdown",
   "id": "c98c6cc6-94eb-46ee-ae57-8e77166c0864",
   "metadata": {},
   "source": [
    "# Exp9: Use classifiers to assess grammar complexity"
   ]
  },
  {
   "cell_type": "code",
   "execution_count": 2,
   "id": "528be49c",
   "metadata": {},
   "outputs": [],
   "source": [
    "import pandas as pd\n",
    "import spacy\n",
    "\n",
    "import numpy as np\n",
    "import matplotlib.pyplot as plt\n",
    "\n",
    "import sys\n",
    "import os\n",
    "sys.path.append(os.path.dirname(os.getcwd()))\n",
    "import config\n",
    "sys.path.append('../src')\n",
    "import models\n",
    "#import importlib # in case models.py has changed\n",
    "#importlib.reload(models)\n",
    "\n",
    "nlp = spacy.load(\"en_core_web_sm\")"
   ]
  },
  {
   "cell_type": "code",
   "execution_count": 3,
   "id": "f28bc2af-0163-405f-b4ff-fbab19f94471",
   "metadata": {},
   "outputs": [],
   "source": [
    "output_df = pd.read_csv('../dat/cefr_leveled_texts.csv')"
   ]
  },
  {
   "cell_type": "code",
   "execution_count": 4,
   "id": "705e6429-c376-449a-afe2-c3834da62601",
   "metadata": {},
   "outputs": [
    {
     "data": {
      "text/html": [
       "<div>\n",
       "<style scoped>\n",
       "    .dataframe tbody tr th:only-of-type {\n",
       "        vertical-align: middle;\n",
       "    }\n",
       "\n",
       "    .dataframe tbody tr th {\n",
       "        vertical-align: top;\n",
       "    }\n",
       "\n",
       "    .dataframe thead th {\n",
       "        text-align: right;\n",
       "    }\n",
       "</style>\n",
       "<table border=\"1\" class=\"dataframe\">\n",
       "  <thead>\n",
       "    <tr style=\"text-align: right;\">\n",
       "      <th></th>\n",
       "      <th>label</th>\n",
       "    </tr>\n",
       "    <tr>\n",
       "      <th>label</th>\n",
       "      <th></th>\n",
       "    </tr>\n",
       "  </thead>\n",
       "  <tbody>\n",
       "    <tr>\n",
       "      <th>A1</th>\n",
       "      <td>100</td>\n",
       "    </tr>\n",
       "    <tr>\n",
       "      <th>A2</th>\n",
       "      <td>100</td>\n",
       "    </tr>\n",
       "    <tr>\n",
       "      <th>B1</th>\n",
       "      <td>100</td>\n",
       "    </tr>\n",
       "    <tr>\n",
       "      <th>B2</th>\n",
       "      <td>100</td>\n",
       "    </tr>\n",
       "    <tr>\n",
       "      <th>C1</th>\n",
       "      <td>100</td>\n",
       "    </tr>\n",
       "    <tr>\n",
       "      <th>C2</th>\n",
       "      <td>100</td>\n",
       "    </tr>\n",
       "  </tbody>\n",
       "</table>\n",
       "</div>"
      ],
      "text/plain": [
       "       label\n",
       "label       \n",
       "A1       100\n",
       "A2       100\n",
       "B1       100\n",
       "B2       100\n",
       "C1       100\n",
       "C2       100"
      ]
     },
     "execution_count": 4,
     "metadata": {},
     "output_type": "execute_result"
    }
   ],
   "source": [
    "df = pd.read_csv('../dat/controlled_text_ranking_info.csv')\n",
    "df = df.drop_duplicates(subset=['story','label'])\n",
    "\n",
    "df.groupby(\"label\").agg({\"label\": lambda x: len(x)})"
   ]
  },
  {
   "cell_type": "code",
   "execution_count": 5,
   "id": "30672b40-6160-4f26-9e23-ed769a990cf1",
   "metadata": {},
   "outputs": [
    {
     "name": "stdout",
     "output_type": "stream",
     "text": [
      "A baby has arms and legs. It has a mouth and eyes. These physical attributes are common knowledge. But what truly sets a baby apart is its boundless potential for growth and development. This transformation is a testament to the intricacies of human biology, nurture, and the power of the environment. \n",
      "\n",
      "First and foremost, biologically, a baby enters the world as a blank slate, relying solely on its innate instincts and the care of its caregivers for survival. At birth, its brain weighs around 1,300 grams and is not fully myelinated, meaning the neurons have not yet developed their insulating sheaths. This leaves the brain vulnerable, yet incredibly malleable, allowing it to form new neural pathways rapidly in response to stimuli. \n",
      "\n",
      "Moreover, the role of nurture cannot be overstated. A nourishing environment rich in love, support, and opportunities for exploration plays a crucial role in shaping a baby's developmental trajectory. According to the renowned psychologist Lev Vygotsky, a child's cognitive development unfolds through social interaction.\n"
     ]
    }
   ],
   "source": [
    "print(df.text[19])"
   ]
  },
  {
   "cell_type": "code",
   "execution_count": 6,
   "id": "e9585594-e7e5-466d-a78c-56fb244e844a",
   "metadata": {},
   "outputs": [],
   "source": [
    "df = pd.read_json('../dat/egp_merged.json')\n",
    "level_models = {level: models.load_model(level, df) for level in [\"A1\", \"A2\", \"B1\", \"B2\", \"C1\", \"C2\"]}"
   ]
  },
  {
   "cell_type": "code",
   "execution_count": 7,
   "id": "93b8a950-16fe-4bbe-8289-5845f70286d4",
   "metadata": {},
   "outputs": [],
   "source": [
    "methods = {\n",
    "    'Static Baseline': 'cefr_leveled_texts.csv',\n",
    "    #'GPT4': 'controlled_text_gpt4_info.csv',\n",
    "    #'GPT4 + Description': 'controlled_text_gpt4.csv',\n",
    "    #'LLM Baseline': 'controlled_text_prompting.csv',\n",
    "    #'LLM Baseline + Description': 'controlled_text_prompting_info.csv',\n",
    "    #'Candidate Ranking (Ours)': 'controlled_text_ranking.csv'\n",
    "    'Candidate Ranking + Description (Ours)': 'controlled_text_ranking_info.csv'\n",
    "}"
   ]
  },
  {
   "cell_type": "code",
   "execution_count": 8,
   "id": "37d8d160-29df-427b-a71e-d87efd0f4c25",
   "metadata": {},
   "outputs": [],
   "source": [
    "def get_sentences(text):\n",
    "    doc = nlp(text)\n",
    "    sentences = [token.text.strip() for token in doc.sents]\n",
    "    return list(sentences)"
   ]
  },
  {
   "cell_type": "code",
   "execution_count": 9,
   "id": "254cf60a",
   "metadata": {},
   "outputs": [],
   "source": [
    "def get_corresponding_scores(file=\"cefr_leveled_texts.csv\", sample_frac=1, all_levels=True):\n",
    "    texts = pd.read_csv('../dat/' + file)\n",
    "    if 'story' in texts.columns: texts = texts.drop_duplicates(subset=['story','label'])\n",
    "    texts = texts.sample(frac=sample_frac)\n",
    "    texts[\"sentences\"] = texts.text.apply(get_sentences)\n",
    "    texts = texts.dropna().explode(\"sentences\")\n",
    "    for level in texts.label.unique():\n",
    "        filter = pd.Series(True, index=texts.index) if all_levels else texts['label']==level\n",
    "        sentences_level = texts.loc[filter, 'sentences']\n",
    "        print(f'{len(sentences_level)} sentences on level {level}')\n",
    "        scores = models.get_scores(level_models[level], sentences_level, use_tqdm=True)\n",
    "        texts.loc[filter, f'{level}_score' if all_levels else 'score'] = scores.float().mean(dim=1).cpu().numpy()\n",
    "    return texts"
   ]
  },
  {
   "cell_type": "code",
   "execution_count": 10,
   "id": "7b7056a8-6dd9-404a-9b07-4da2de5c4744",
   "metadata": {
    "scrolled": true
   },
   "outputs": [
    {
     "name": "stdout",
     "output_type": "stream",
     "text": [
      "Processing cefr_leveled_texts.csv\n"
     ]
    },
    {
     "ename": "KeyboardInterrupt",
     "evalue": "",
     "output_type": "error",
     "traceback": [
      "\u001b[0;31m---------------------------------------------------------------------------\u001b[0m",
      "\u001b[0;31mKeyboardInterrupt\u001b[0m                         Traceback (most recent call last)",
      "Cell \u001b[0;32mIn[10], line 6\u001b[0m\n\u001b[1;32m      3\u001b[0m     texts \u001b[38;5;241m=\u001b[39m get_corresponding_scores(file, sample_frac\u001b[38;5;241m=\u001b[39m\u001b[38;5;241m1\u001b[39m, all_levels\u001b[38;5;241m=\u001b[39m\u001b[38;5;28;01mFalse\u001b[39;00m)\n\u001b[1;32m      4\u001b[0m     \u001b[38;5;28;01mreturn\u001b[39;00m texts\u001b[38;5;241m.\u001b[39mgroupby(\u001b[38;5;124m\"\u001b[39m\u001b[38;5;124mlabel\u001b[39m\u001b[38;5;124m\"\u001b[39m)\u001b[38;5;241m.\u001b[39magg({\u001b[38;5;124m\"\u001b[39m\u001b[38;5;124mscore\u001b[39m\u001b[38;5;124m\"\u001b[39m: \u001b[38;5;124m\"\u001b[39m\u001b[38;5;124mmean\u001b[39m\u001b[38;5;124m\"\u001b[39m})\n\u001b[0;32m----> 6\u001b[0m score_means \u001b[38;5;241m=\u001b[39m {method: get_score_df(file) \u001b[38;5;28;01mfor\u001b[39;00m method, file \u001b[38;5;129;01min\u001b[39;00m methods\u001b[38;5;241m.\u001b[39mitems()}\n",
      "Cell \u001b[0;32mIn[10], line 6\u001b[0m, in \u001b[0;36m<dictcomp>\u001b[0;34m(.0)\u001b[0m\n\u001b[1;32m      3\u001b[0m     texts \u001b[38;5;241m=\u001b[39m get_corresponding_scores(file, sample_frac\u001b[38;5;241m=\u001b[39m\u001b[38;5;241m1\u001b[39m, all_levels\u001b[38;5;241m=\u001b[39m\u001b[38;5;28;01mFalse\u001b[39;00m)\n\u001b[1;32m      4\u001b[0m     \u001b[38;5;28;01mreturn\u001b[39;00m texts\u001b[38;5;241m.\u001b[39mgroupby(\u001b[38;5;124m\"\u001b[39m\u001b[38;5;124mlabel\u001b[39m\u001b[38;5;124m\"\u001b[39m)\u001b[38;5;241m.\u001b[39magg({\u001b[38;5;124m\"\u001b[39m\u001b[38;5;124mscore\u001b[39m\u001b[38;5;124m\"\u001b[39m: \u001b[38;5;124m\"\u001b[39m\u001b[38;5;124mmean\u001b[39m\u001b[38;5;124m\"\u001b[39m})\n\u001b[0;32m----> 6\u001b[0m score_means \u001b[38;5;241m=\u001b[39m {method: \u001b[43mget_score_df\u001b[49m\u001b[43m(\u001b[49m\u001b[43mfile\u001b[49m\u001b[43m)\u001b[49m \u001b[38;5;28;01mfor\u001b[39;00m method, file \u001b[38;5;129;01min\u001b[39;00m methods\u001b[38;5;241m.\u001b[39mitems()}\n",
      "Cell \u001b[0;32mIn[10], line 3\u001b[0m, in \u001b[0;36mget_score_df\u001b[0;34m(file)\u001b[0m\n\u001b[1;32m      1\u001b[0m \u001b[38;5;28;01mdef\u001b[39;00m \u001b[38;5;21mget_score_df\u001b[39m(file):\n\u001b[1;32m      2\u001b[0m     \u001b[38;5;28mprint\u001b[39m(\u001b[38;5;124mf\u001b[39m\u001b[38;5;124m\"\u001b[39m\u001b[38;5;124mProcessing \u001b[39m\u001b[38;5;132;01m{\u001b[39;00mfile\u001b[38;5;132;01m}\u001b[39;00m\u001b[38;5;124m\"\u001b[39m)\n\u001b[0;32m----> 3\u001b[0m     texts \u001b[38;5;241m=\u001b[39m \u001b[43mget_corresponding_scores\u001b[49m\u001b[43m(\u001b[49m\u001b[43mfile\u001b[49m\u001b[43m,\u001b[49m\u001b[43m \u001b[49m\u001b[43msample_frac\u001b[49m\u001b[38;5;241;43m=\u001b[39;49m\u001b[38;5;241;43m1\u001b[39;49m\u001b[43m,\u001b[49m\u001b[43m \u001b[49m\u001b[43mall_levels\u001b[49m\u001b[38;5;241;43m=\u001b[39;49m\u001b[38;5;28;43;01mFalse\u001b[39;49;00m\u001b[43m)\u001b[49m\n\u001b[1;32m      4\u001b[0m     \u001b[38;5;28;01mreturn\u001b[39;00m texts\u001b[38;5;241m.\u001b[39mgroupby(\u001b[38;5;124m\"\u001b[39m\u001b[38;5;124mlabel\u001b[39m\u001b[38;5;124m\"\u001b[39m)\u001b[38;5;241m.\u001b[39magg({\u001b[38;5;124m\"\u001b[39m\u001b[38;5;124mscore\u001b[39m\u001b[38;5;124m\"\u001b[39m: \u001b[38;5;124m\"\u001b[39m\u001b[38;5;124mmean\u001b[39m\u001b[38;5;124m\"\u001b[39m})\n",
      "Cell \u001b[0;32mIn[9], line 5\u001b[0m, in \u001b[0;36mget_corresponding_scores\u001b[0;34m(file, sample_frac, all_levels)\u001b[0m\n\u001b[1;32m      3\u001b[0m \u001b[38;5;28;01mif\u001b[39;00m \u001b[38;5;124m'\u001b[39m\u001b[38;5;124mstory\u001b[39m\u001b[38;5;124m'\u001b[39m \u001b[38;5;129;01min\u001b[39;00m texts\u001b[38;5;241m.\u001b[39mcolumns: texts \u001b[38;5;241m=\u001b[39m texts\u001b[38;5;241m.\u001b[39mdrop_duplicates(subset\u001b[38;5;241m=\u001b[39m[\u001b[38;5;124m'\u001b[39m\u001b[38;5;124mstory\u001b[39m\u001b[38;5;124m'\u001b[39m,\u001b[38;5;124m'\u001b[39m\u001b[38;5;124mlabel\u001b[39m\u001b[38;5;124m'\u001b[39m])\n\u001b[1;32m      4\u001b[0m texts \u001b[38;5;241m=\u001b[39m texts\u001b[38;5;241m.\u001b[39msample(frac\u001b[38;5;241m=\u001b[39msample_frac)\n\u001b[0;32m----> 5\u001b[0m texts[\u001b[38;5;124m\"\u001b[39m\u001b[38;5;124msentences\u001b[39m\u001b[38;5;124m\"\u001b[39m] \u001b[38;5;241m=\u001b[39m \u001b[43mtexts\u001b[49m\u001b[38;5;241;43m.\u001b[39;49m\u001b[43mtext\u001b[49m\u001b[38;5;241;43m.\u001b[39;49m\u001b[43mapply\u001b[49m\u001b[43m(\u001b[49m\u001b[43mget_sentences\u001b[49m\u001b[43m)\u001b[49m\n\u001b[1;32m      6\u001b[0m texts \u001b[38;5;241m=\u001b[39m texts\u001b[38;5;241m.\u001b[39mdropna()\u001b[38;5;241m.\u001b[39mexplode(\u001b[38;5;124m\"\u001b[39m\u001b[38;5;124msentences\u001b[39m\u001b[38;5;124m\"\u001b[39m)\n\u001b[1;32m      7\u001b[0m \u001b[38;5;28;01mfor\u001b[39;00m level \u001b[38;5;129;01min\u001b[39;00m texts\u001b[38;5;241m.\u001b[39mlabel\u001b[38;5;241m.\u001b[39munique():\n",
      "File \u001b[0;32m/mnt/qb/work/meurers/mpb672/conda_envs/llm/lib/python3.10/site-packages/pandas/core/series.py:4904\u001b[0m, in \u001b[0;36mSeries.apply\u001b[0;34m(self, func, convert_dtype, args, by_row, **kwargs)\u001b[0m\n\u001b[1;32m   4769\u001b[0m \u001b[38;5;28;01mdef\u001b[39;00m \u001b[38;5;21mapply\u001b[39m(\n\u001b[1;32m   4770\u001b[0m     \u001b[38;5;28mself\u001b[39m,\n\u001b[1;32m   4771\u001b[0m     func: AggFuncType,\n\u001b[0;32m   (...)\u001b[0m\n\u001b[1;32m   4776\u001b[0m     \u001b[38;5;241m*\u001b[39m\u001b[38;5;241m*\u001b[39mkwargs,\n\u001b[1;32m   4777\u001b[0m ) \u001b[38;5;241m-\u001b[39m\u001b[38;5;241m>\u001b[39m DataFrame \u001b[38;5;241m|\u001b[39m Series:\n\u001b[1;32m   4778\u001b[0m \u001b[38;5;250m    \u001b[39m\u001b[38;5;124;03m\"\"\"\u001b[39;00m\n\u001b[1;32m   4779\u001b[0m \u001b[38;5;124;03m    Invoke function on values of Series.\u001b[39;00m\n\u001b[1;32m   4780\u001b[0m \n\u001b[0;32m   (...)\u001b[0m\n\u001b[1;32m   4895\u001b[0m \u001b[38;5;124;03m    dtype: float64\u001b[39;00m\n\u001b[1;32m   4896\u001b[0m \u001b[38;5;124;03m    \"\"\"\u001b[39;00m\n\u001b[1;32m   4897\u001b[0m     \u001b[38;5;28;01mreturn\u001b[39;00m \u001b[43mSeriesApply\u001b[49m\u001b[43m(\u001b[49m\n\u001b[1;32m   4898\u001b[0m \u001b[43m        \u001b[49m\u001b[38;5;28;43mself\u001b[39;49m\u001b[43m,\u001b[49m\n\u001b[1;32m   4899\u001b[0m \u001b[43m        \u001b[49m\u001b[43mfunc\u001b[49m\u001b[43m,\u001b[49m\n\u001b[1;32m   4900\u001b[0m \u001b[43m        \u001b[49m\u001b[43mconvert_dtype\u001b[49m\u001b[38;5;241;43m=\u001b[39;49m\u001b[43mconvert_dtype\u001b[49m\u001b[43m,\u001b[49m\n\u001b[1;32m   4901\u001b[0m \u001b[43m        \u001b[49m\u001b[43mby_row\u001b[49m\u001b[38;5;241;43m=\u001b[39;49m\u001b[43mby_row\u001b[49m\u001b[43m,\u001b[49m\n\u001b[1;32m   4902\u001b[0m \u001b[43m        \u001b[49m\u001b[43margs\u001b[49m\u001b[38;5;241;43m=\u001b[39;49m\u001b[43margs\u001b[49m\u001b[43m,\u001b[49m\n\u001b[1;32m   4903\u001b[0m \u001b[43m        \u001b[49m\u001b[43mkwargs\u001b[49m\u001b[38;5;241;43m=\u001b[39;49m\u001b[43mkwargs\u001b[49m\u001b[43m,\u001b[49m\n\u001b[0;32m-> 4904\u001b[0m \u001b[43m    \u001b[49m\u001b[43m)\u001b[49m\u001b[38;5;241;43m.\u001b[39;49m\u001b[43mapply\u001b[49m\u001b[43m(\u001b[49m\u001b[43m)\u001b[49m\n",
      "File \u001b[0;32m/mnt/qb/work/meurers/mpb672/conda_envs/llm/lib/python3.10/site-packages/pandas/core/apply.py:1427\u001b[0m, in \u001b[0;36mSeriesApply.apply\u001b[0;34m(self)\u001b[0m\n\u001b[1;32m   1424\u001b[0m     \u001b[38;5;28;01mreturn\u001b[39;00m \u001b[38;5;28mself\u001b[39m\u001b[38;5;241m.\u001b[39mapply_compat()\n\u001b[1;32m   1426\u001b[0m \u001b[38;5;66;03m# self.func is Callable\u001b[39;00m\n\u001b[0;32m-> 1427\u001b[0m \u001b[38;5;28;01mreturn\u001b[39;00m \u001b[38;5;28;43mself\u001b[39;49m\u001b[38;5;241;43m.\u001b[39;49m\u001b[43mapply_standard\u001b[49m\u001b[43m(\u001b[49m\u001b[43m)\u001b[49m\n",
      "File \u001b[0;32m/mnt/qb/work/meurers/mpb672/conda_envs/llm/lib/python3.10/site-packages/pandas/core/apply.py:1507\u001b[0m, in \u001b[0;36mSeriesApply.apply_standard\u001b[0;34m(self)\u001b[0m\n\u001b[1;32m   1501\u001b[0m \u001b[38;5;66;03m# row-wise access\u001b[39;00m\n\u001b[1;32m   1502\u001b[0m \u001b[38;5;66;03m# apply doesn't have a `na_action` keyword and for backward compat reasons\u001b[39;00m\n\u001b[1;32m   1503\u001b[0m \u001b[38;5;66;03m# we need to give `na_action=\"ignore\"` for categorical data.\u001b[39;00m\n\u001b[1;32m   1504\u001b[0m \u001b[38;5;66;03m# TODO: remove the `na_action=\"ignore\"` when that default has been changed in\u001b[39;00m\n\u001b[1;32m   1505\u001b[0m \u001b[38;5;66;03m#  Categorical (GH51645).\u001b[39;00m\n\u001b[1;32m   1506\u001b[0m action \u001b[38;5;241m=\u001b[39m \u001b[38;5;124m\"\u001b[39m\u001b[38;5;124mignore\u001b[39m\u001b[38;5;124m\"\u001b[39m \u001b[38;5;28;01mif\u001b[39;00m \u001b[38;5;28misinstance\u001b[39m(obj\u001b[38;5;241m.\u001b[39mdtype, CategoricalDtype) \u001b[38;5;28;01melse\u001b[39;00m \u001b[38;5;28;01mNone\u001b[39;00m\n\u001b[0;32m-> 1507\u001b[0m mapped \u001b[38;5;241m=\u001b[39m \u001b[43mobj\u001b[49m\u001b[38;5;241;43m.\u001b[39;49m\u001b[43m_map_values\u001b[49m\u001b[43m(\u001b[49m\n\u001b[1;32m   1508\u001b[0m \u001b[43m    \u001b[49m\u001b[43mmapper\u001b[49m\u001b[38;5;241;43m=\u001b[39;49m\u001b[43mcurried\u001b[49m\u001b[43m,\u001b[49m\u001b[43m \u001b[49m\u001b[43mna_action\u001b[49m\u001b[38;5;241;43m=\u001b[39;49m\u001b[43maction\u001b[49m\u001b[43m,\u001b[49m\u001b[43m \u001b[49m\u001b[43mconvert\u001b[49m\u001b[38;5;241;43m=\u001b[39;49m\u001b[38;5;28;43mself\u001b[39;49m\u001b[38;5;241;43m.\u001b[39;49m\u001b[43mconvert_dtype\u001b[49m\n\u001b[1;32m   1509\u001b[0m \u001b[43m\u001b[49m\u001b[43m)\u001b[49m\n\u001b[1;32m   1511\u001b[0m \u001b[38;5;28;01mif\u001b[39;00m \u001b[38;5;28mlen\u001b[39m(mapped) \u001b[38;5;129;01mand\u001b[39;00m \u001b[38;5;28misinstance\u001b[39m(mapped[\u001b[38;5;241m0\u001b[39m], ABCSeries):\n\u001b[1;32m   1512\u001b[0m     \u001b[38;5;66;03m# GH#43986 Need to do list(mapped) in order to get treated as nested\u001b[39;00m\n\u001b[1;32m   1513\u001b[0m     \u001b[38;5;66;03m#  See also GH#25959 regarding EA support\u001b[39;00m\n\u001b[1;32m   1514\u001b[0m     \u001b[38;5;28;01mreturn\u001b[39;00m obj\u001b[38;5;241m.\u001b[39m_constructor_expanddim(\u001b[38;5;28mlist\u001b[39m(mapped), index\u001b[38;5;241m=\u001b[39mobj\u001b[38;5;241m.\u001b[39mindex)\n",
      "File \u001b[0;32m/mnt/qb/work/meurers/mpb672/conda_envs/llm/lib/python3.10/site-packages/pandas/core/base.py:921\u001b[0m, in \u001b[0;36mIndexOpsMixin._map_values\u001b[0;34m(self, mapper, na_action, convert)\u001b[0m\n\u001b[1;32m    918\u001b[0m \u001b[38;5;28;01mif\u001b[39;00m \u001b[38;5;28misinstance\u001b[39m(arr, ExtensionArray):\n\u001b[1;32m    919\u001b[0m     \u001b[38;5;28;01mreturn\u001b[39;00m arr\u001b[38;5;241m.\u001b[39mmap(mapper, na_action\u001b[38;5;241m=\u001b[39mna_action)\n\u001b[0;32m--> 921\u001b[0m \u001b[38;5;28;01mreturn\u001b[39;00m \u001b[43malgorithms\u001b[49m\u001b[38;5;241;43m.\u001b[39;49m\u001b[43mmap_array\u001b[49m\u001b[43m(\u001b[49m\u001b[43marr\u001b[49m\u001b[43m,\u001b[49m\u001b[43m \u001b[49m\u001b[43mmapper\u001b[49m\u001b[43m,\u001b[49m\u001b[43m \u001b[49m\u001b[43mna_action\u001b[49m\u001b[38;5;241;43m=\u001b[39;49m\u001b[43mna_action\u001b[49m\u001b[43m,\u001b[49m\u001b[43m \u001b[49m\u001b[43mconvert\u001b[49m\u001b[38;5;241;43m=\u001b[39;49m\u001b[43mconvert\u001b[49m\u001b[43m)\u001b[49m\n",
      "File \u001b[0;32m/mnt/qb/work/meurers/mpb672/conda_envs/llm/lib/python3.10/site-packages/pandas/core/algorithms.py:1743\u001b[0m, in \u001b[0;36mmap_array\u001b[0;34m(arr, mapper, na_action, convert)\u001b[0m\n\u001b[1;32m   1741\u001b[0m values \u001b[38;5;241m=\u001b[39m arr\u001b[38;5;241m.\u001b[39mastype(\u001b[38;5;28mobject\u001b[39m, copy\u001b[38;5;241m=\u001b[39m\u001b[38;5;28;01mFalse\u001b[39;00m)\n\u001b[1;32m   1742\u001b[0m \u001b[38;5;28;01mif\u001b[39;00m na_action \u001b[38;5;129;01mis\u001b[39;00m \u001b[38;5;28;01mNone\u001b[39;00m:\n\u001b[0;32m-> 1743\u001b[0m     \u001b[38;5;28;01mreturn\u001b[39;00m \u001b[43mlib\u001b[49m\u001b[38;5;241;43m.\u001b[39;49m\u001b[43mmap_infer\u001b[49m\u001b[43m(\u001b[49m\u001b[43mvalues\u001b[49m\u001b[43m,\u001b[49m\u001b[43m \u001b[49m\u001b[43mmapper\u001b[49m\u001b[43m,\u001b[49m\u001b[43m \u001b[49m\u001b[43mconvert\u001b[49m\u001b[38;5;241;43m=\u001b[39;49m\u001b[43mconvert\u001b[49m\u001b[43m)\u001b[49m\n\u001b[1;32m   1744\u001b[0m \u001b[38;5;28;01melse\u001b[39;00m:\n\u001b[1;32m   1745\u001b[0m     \u001b[38;5;28;01mreturn\u001b[39;00m lib\u001b[38;5;241m.\u001b[39mmap_infer_mask(\n\u001b[1;32m   1746\u001b[0m         values, mapper, mask\u001b[38;5;241m=\u001b[39misna(values)\u001b[38;5;241m.\u001b[39mview(np\u001b[38;5;241m.\u001b[39muint8), convert\u001b[38;5;241m=\u001b[39mconvert\n\u001b[1;32m   1747\u001b[0m     )\n",
      "File \u001b[0;32mlib.pyx:2972\u001b[0m, in \u001b[0;36mpandas._libs.lib.map_infer\u001b[0;34m()\u001b[0m\n",
      "Cell \u001b[0;32mIn[8], line 2\u001b[0m, in \u001b[0;36mget_sentences\u001b[0;34m(text)\u001b[0m\n\u001b[1;32m      1\u001b[0m \u001b[38;5;28;01mdef\u001b[39;00m \u001b[38;5;21mget_sentences\u001b[39m(text):\n\u001b[0;32m----> 2\u001b[0m     doc \u001b[38;5;241m=\u001b[39m \u001b[43mnlp\u001b[49m\u001b[43m(\u001b[49m\u001b[43mtext\u001b[49m\u001b[43m)\u001b[49m\n\u001b[1;32m      3\u001b[0m     sentences \u001b[38;5;241m=\u001b[39m [token\u001b[38;5;241m.\u001b[39mtext\u001b[38;5;241m.\u001b[39mstrip() \u001b[38;5;28;01mfor\u001b[39;00m token \u001b[38;5;129;01min\u001b[39;00m doc\u001b[38;5;241m.\u001b[39msents]\n\u001b[1;32m      4\u001b[0m     \u001b[38;5;28;01mreturn\u001b[39;00m \u001b[38;5;28mlist\u001b[39m(sentences)\n",
      "File \u001b[0;32m/mnt/qb/work/meurers/mpb672/conda_envs/llm/lib/python3.10/site-packages/spacy/language.py:1049\u001b[0m, in \u001b[0;36mLanguage.__call__\u001b[0;34m(self, text, disable, component_cfg)\u001b[0m\n\u001b[1;32m   1047\u001b[0m     error_handler \u001b[38;5;241m=\u001b[39m proc\u001b[38;5;241m.\u001b[39mget_error_handler()\n\u001b[1;32m   1048\u001b[0m \u001b[38;5;28;01mtry\u001b[39;00m:\n\u001b[0;32m-> 1049\u001b[0m     doc \u001b[38;5;241m=\u001b[39m \u001b[43mproc\u001b[49m\u001b[43m(\u001b[49m\u001b[43mdoc\u001b[49m\u001b[43m,\u001b[49m\u001b[43m \u001b[49m\u001b[38;5;241;43m*\u001b[39;49m\u001b[38;5;241;43m*\u001b[39;49m\u001b[43mcomponent_cfg\u001b[49m\u001b[38;5;241;43m.\u001b[39;49m\u001b[43mget\u001b[49m\u001b[43m(\u001b[49m\u001b[43mname\u001b[49m\u001b[43m,\u001b[49m\u001b[43m \u001b[49m\u001b[43m{\u001b[49m\u001b[43m}\u001b[49m\u001b[43m)\u001b[49m\u001b[43m)\u001b[49m  \u001b[38;5;66;03m# type: ignore[call-arg]\u001b[39;00m\n\u001b[1;32m   1050\u001b[0m \u001b[38;5;28;01mexcept\u001b[39;00m \u001b[38;5;167;01mKeyError\u001b[39;00m \u001b[38;5;28;01mas\u001b[39;00m e:\n\u001b[1;32m   1051\u001b[0m     \u001b[38;5;66;03m# This typically happens if a component is not initialized\u001b[39;00m\n\u001b[1;32m   1052\u001b[0m     \u001b[38;5;28;01mraise\u001b[39;00m \u001b[38;5;167;01mValueError\u001b[39;00m(Errors\u001b[38;5;241m.\u001b[39mE109\u001b[38;5;241m.\u001b[39mformat(name\u001b[38;5;241m=\u001b[39mname)) \u001b[38;5;28;01mfrom\u001b[39;00m \u001b[38;5;21;01me\u001b[39;00m\n",
      "\u001b[0;31mKeyboardInterrupt\u001b[0m: "
     ]
    }
   ],
   "source": [
    "def get_score_df(file):\n",
    "    print(f\"Processing {file}\")\n",
    "    texts = get_corresponding_scores(file, sample_frac=1, all_levels=False)\n",
    "    return texts.groupby(\"label\").agg({\"score\": \"mean\"})\n",
    "    \n",
    "score_means = {method: get_score_df(file) for method, file in methods.items()}"
   ]
  },
  {
   "cell_type": "code",
   "execution_count": null,
   "id": "21df097b-9ce9-43ae-9765-3a4829c60676",
   "metadata": {},
   "outputs": [],
   "source": [
    "#corr_df = texts.groupby(\"label\").agg({f\"{level}_score\": \"mean\" for level in level_models.keys()})\n",
    "#corr_df = texts.groupby(\"label\").agg({\"score\": \"mean\"})"
   ]
  },
  {
   "cell_type": "code",
   "execution_count": 14,
   "id": "791f2edd-82d7-473a-b6a4-9fb711871abd",
   "metadata": {
    "scrolled": true
   },
   "outputs": [
    {
     "name": "stdout",
     "output_type": "stream",
     "text": [
      "A1: Of course Billy is her best child.\n",
      "A1: She tells Billy, \"You are my best child.\"\n",
      "A2: Some guys came up to us because they wanted to play a game of baseball.\n",
      "A1: Billy always listens to his mother.\n",
      "A2: My big brother James has always been a good baseball player.\n",
      "A1: Billy is a good boy.\n",
      "A1: He always does what she says.\n",
      "A1: He was carrying a money bag.\n",
      "B2: Matt is in control but\n",
      "you can see it takes a real effort.\n",
      "A1: I would like to see my counselor now.\n",
      "A1: Billy is a very good boy.\n",
      "C1: I feel very proud about this place and of the rock art that is here.\n",
      "B2: Madonna was born in Bay City, Michigan in 1958.\n",
      "A2: Your arm will be sore for a day.\n",
      "A2: Your body will hurt for a week.\n",
      "A2: It is very easy to catch the flu.\n",
      "A1: Billy is her only child.\n",
      "B2: The house was an old stucco house that got very hot in the summer and cold in the winter.\n",
      "A2: You should get a flu shot.\n",
      "A1: Please make an appointment for next week.\n"
     ]
    }
   ],
   "source": [
    "for idx, row in texts.sort_values(\"scores\", ascending=False)[['sentences', 'label']].head(20).iterrows():\n",
    "    print(f'{row.label}: {row.sentences}')"
   ]
  },
  {
   "cell_type": "code",
   "execution_count": 28,
   "id": "fd9fed05-bd6f-46a7-8d5a-0041ca19acef",
   "metadata": {},
   "outputs": [
    {
     "data": {
      "text/plain": [
       "{'Candidate Ranking + Description (Ours)':           score\n",
       " label          \n",
       " A1     0.295660\n",
       " A2     0.099850\n",
       " B1     0.122584\n",
       " B2     0.121852\n",
       " C1     0.205762\n",
       " C2     0.113350}"
      ]
     },
     "execution_count": 28,
     "metadata": {},
     "output_type": "execute_result"
    }
   ],
   "source": [
    "score_means"
   ]
  },
  {
   "cell_type": "code",
   "execution_count": 29,
   "id": "cce8e2f5-60d9-4023-b3cc-7de7128546f8",
   "metadata": {},
   "outputs": [
    {
     "name": "stdout",
     "output_type": "stream",
     "text": [
      "\\begin{tabular}{l|r|r|r|r|r|r}\n",
      "\\toprule\n",
      " & A1 & A2 & B1 & B2 & C1 & C2 \\\\\n",
      "level_0 &  &  &  &  &  &  \\\\\n",
      "\\midrule\n",
      "Candidate Ranking + Description (Ours) & 29.6\\% & 10.0\\% & 12.3\\% & 12.2\\% & 20.6\\% & 11.3\\% \\\\\n",
      "\\bottomrule\n",
      "\\end{tabular}\n",
      "\n",
      "\\begin{tabular}{l|r|r|r|r|r|r}\n",
      " & A1 & A2 & B1 & B2 & C1 & C2 \\\\\\hline\\\n",
      "Candidate Ranking + Description (Ours) & 29.6\\% & 10.0\\% & 12.3\\% & 12.2\\% & 20.6\\% & 11.3\\% \\\\\\hline\n",
      "\\midrule\n",
      "\\end{tabular}\n"
     ]
    }
   ],
   "source": [
    "# Combine and reshape the data\n",
    "combined_df = pd.concat(score_means).reset_index()\n",
    "pivot_df = combined_df.pivot(index='level_0', columns='label', values='score')\n",
    "pivot_df.columns.name=\"\"\n",
    "\n",
    "pivot_df = pivot_df.map(lambda x: '{:.1f}\\%'.format(x * 100))\n",
    "\n",
    "latex_table = pivot_df.to_latex(column_format=\"l|r|r|r|r|r|r\", escape=False)\n",
    "print(latex_table)\n",
    "latex_table_lines = latex_table.splitlines()\n",
    "data_rows = latex_table_lines[4:5] + [row + \"\\hline\" for row in latex_table_lines[5:-2]]\n",
    "formatted_latex_table = '\\n'.join(latex_table_lines[:1] +latex_table_lines[2:3] +list(reversed(data_rows)) + latex_table_lines[-1:])\n",
    "print(formatted_latex_table.replace(\"C2 \\\\\", \"C2 \\\\\\\\\\hline\").replace(\"\\\\hline\\n\\hline\", \"\\hline\"))"
   ]
  },
  {
   "cell_type": "code",
   "execution_count": 11,
   "id": "afbaf19d-4834-46c7-92f2-0c7e70636c36",
   "metadata": {},
   "outputs": [],
   "source": [
    "from matplotlib.ticker import FuncFormatter\n",
    "plt.rcParams.update({'font.size': 14, 'axes.labelsize': 14, 'axes.titlesize': 14, 'xtick.labelsize': 12,\n",
    "                     'ytick.labelsize': 12, 'legend.fontsize': 14}) \n",
    "def to_percent(y, position):\n",
    "    return f\"{100 * y:.0f}%\""
   ]
  },
  {
   "cell_type": "code",
   "execution_count": 30,
   "id": "8807438f-a09e-4b3f-979d-853d4b327702",
   "metadata": {},
   "outputs": [
    {
     "name": "stdout",
     "output_type": "stream",
     "text": [
      "7985 sentences on level C1\n"
     ]
    },
    {
     "name": "stderr",
     "output_type": "stream",
     "text": [
      "100%|█████████████████████████████████████████████████████████████████████████████████| 250/250 [00:19<00:00, 13.06it/s]\n"
     ]
    },
    {
     "name": "stdout",
     "output_type": "stream",
     "text": [
      "7985 sentences on level B2\n"
     ]
    },
    {
     "name": "stderr",
     "output_type": "stream",
     "text": [
      "100%|█████████████████████████████████████████████████████████████████████████████████| 250/250 [00:19<00:00, 12.61it/s]\n"
     ]
    },
    {
     "name": "stdout",
     "output_type": "stream",
     "text": [
      "7985 sentences on level C2\n"
     ]
    },
    {
     "name": "stderr",
     "output_type": "stream",
     "text": [
      "100%|█████████████████████████████████████████████████████████████████████████████████| 250/250 [00:19<00:00, 12.95it/s]\n"
     ]
    },
    {
     "name": "stdout",
     "output_type": "stream",
     "text": [
      "7985 sentences on level A1\n"
     ]
    },
    {
     "name": "stderr",
     "output_type": "stream",
     "text": [
      "100%|█████████████████████████████████████████████████████████████████████████████████| 250/250 [00:19<00:00, 12.93it/s]\n"
     ]
    },
    {
     "name": "stdout",
     "output_type": "stream",
     "text": [
      "7985 sentences on level B1\n"
     ]
    },
    {
     "name": "stderr",
     "output_type": "stream",
     "text": [
      "100%|█████████████████████████████████████████████████████████████████████████████████| 250/250 [00:21<00:00, 11.71it/s]\n"
     ]
    },
    {
     "name": "stdout",
     "output_type": "stream",
     "text": [
      "7985 sentences on level A2\n"
     ]
    },
    {
     "name": "stderr",
     "output_type": "stream",
     "text": [
      "100%|█████████████████████████████████████████████████████████████████████████████████| 250/250 [00:20<00:00, 12.08it/s]\n"
     ]
    }
   ],
   "source": [
    "methods = {\n",
    "    #'Static labeled text': 'cefr_leveled_texts.csv',\n",
    "    'Ranking-based text generation': 'controlled_text_ranking_info.csv'\n",
    "}\n",
    "\n",
    "def get_df(file='controlled_text_ranking.csv'):\n",
    "    texts = get_corresponding_scores(file, sample_frac=1, all_levels=True)\n",
    "    corr_df = texts.groupby(\"label\").agg({f\"{level}_score\": \"mean\" for level in level_models.keys()})\n",
    "    return corr_df.rename(columns=lambda x: x.replace(\"_score\", \"\"))\n",
    "\n",
    "corr_dfs = {label: get_df(file) for label, file in methods.items()}"
   ]
  },
  {
   "cell_type": "code",
   "execution_count": 33,
   "id": "8f591b5b-a13c-410b-bf6e-833a5ccec04d",
   "metadata": {},
   "outputs": [],
   "source": []
  },
  {
   "cell_type": "code",
   "execution_count": 11,
   "id": "088d820a-6c68-4eca-ad5f-5051e45db4ec",
   "metadata": {},
   "outputs": [],
   "source": [
    "#corr_dfs['Ranking-based text generation'].to_json(\"../doc/ranking_levels.json\")\n",
    "#corr_dfs['Static labeled text'].to_json(\"../doc/baseline_levels.json\")"
   ]
  },
  {
   "cell_type": "code",
   "execution_count": 16,
   "id": "aba1f228-658b-4e67-be5a-d6f7f718a5c3",
   "metadata": {},
   "outputs": [],
   "source": [
    "corr_dfs['Static labeled text'] = pd.read_json(\"../doc/baseline_levels.json\")"
   ]
  },
  {
   "cell_type": "code",
   "execution_count": 28,
   "id": "9c49b14e-1b8e-4175-908c-cd7ee9ab2cff",
   "metadata": {},
   "outputs": [
    {
     "data": {
      "text/plain": [
       "{}"
      ]
     },
     "execution_count": 28,
     "metadata": {},
     "output_type": "execute_result"
    }
   ],
   "source": [
    "corr_dfs_2 = corr_dfs\n",
    "del corr_dfs_2['Static labeled text']\n",
    "corr_dfs_2"
   ]
  },
  {
   "cell_type": "code",
   "execution_count": 32,
   "id": "9985ec8e-2956-4c43-b635-4c80e847e03f",
   "metadata": {},
   "outputs": [
    {
     "data": {
      "image/png": "[encoded data removed]",
      "text/plain": [
       "<Figure size 600x400 with 1 Axes>"
      ]
     },
     "metadata": {},
     "output_type": "display_data"
    }
   ],
   "source": [
    "plt.rcParams.update({'font.size': 20, 'axes.labelsize': 16, 'axes.titlesize': 16, 'xtick.labelsize': 14,\n",
    "                     'ytick.labelsize': 14, 'legend.fontsize': 14}) \n",
    "plt.rcParams['legend.title_fontsize'] = 'small'\n",
    "def plot_all_levels(corr_df, axis, title_label=\"ranking-based\"):    \n",
    "    df_sorted = corr_df.sort_index(axis=1)\n",
    "    for label in df_sorted.index:\n",
    "        axis.plot(df_sorted.columns, df_sorted.loc[label, :], label=label)\n",
    "    \n",
    "    axis.set_xlabel('Classification model')\n",
    "    axis.set_ylabel('Ratio of constructs found')\n",
    "    axis.set_title(f'{title_label}')\n",
    "    axis.yaxis.set_major_formatter(FuncFormatter(to_percent))\n",
    "    axis.set_ylim(0, 0.31)  # Replace lower_limit and upper_limit with your desired values\n",
    "    axis.legend(title=\"Text difficulty\", loc='upper center', bbox_to_anchor=(0.575, 1), ncol=len(df_sorted.index)/2)\n",
    "\n",
    "legends = []\n",
    "# Create two subplots\n",
    "fig, axes = plt.subplots(1, 1, figsize=(6, 4))\n",
    "# After creating subplots, adjust the spacing around subplots\n",
    "plt.subplots_adjust(left=0.1, right=0.9, top=0.9, bottom=0.1, wspace=0.15, hspace=0.3)\n",
    "\n",
    "for idx, (label, corr_df) in enumerate(corr_dfs.items()):\n",
    "    plot_all_levels(corr_df, axes, label)\n",
    "#axes[1].set_ylabel('')\n",
    "\n",
    "plt.savefig(f'../doc/ranking_all_levels.pdf', transparent=True, bbox_inches='tight')\n",
    "plt.show()"
   ]
  },
  {
   "cell_type": "code",
   "execution_count": null,
   "id": "8ba1669c-499a-449e-bf0b-7dc2ccffe410",
   "metadata": {},
   "outputs": [],
   "source": []
  }
 ],
 "metadata": {
  "kernelspec": {
   "display_name": "Python 3 (ipykernel)",
   "language": "python",
   "name": "python3"
  },
  "language_info": {
   "codemirror_mode": {
    "name": "ipython",
    "version": 3
   },
   "file_extension": ".py",
   "mimetype": "text/x-python",
   "name": "python",
   "nbconvert_exporter": "python",
   "pygments_lexer": "ipython3",
   "version": "3.10.4"
  }
 },
 "nbformat": 4,
 "nbformat_minor": 5
}
