{
 "cells": [
  {
   "cell_type": "code",
   "execution_count": 1,
   "id": "528be49c",
   "metadata": {},
   "outputs": [],
   "source": [
    "import pandas as pd\n",
    "from sentence_transformers import SentenceTransformer\n",
    "import spacy\n",
    "import os\n",
    "import torch\n",
    "import numpy as np\n",
    "\n",
    "nlp = spacy.load(\"en_core_web_sm\")"
   ]
  },
  {
   "cell_type": "code",
   "execution_count": 2,
   "id": "254cf60a",
   "metadata": {},
   "outputs": [
    {
     "data": {
      "text/html": [
       "<div>\n",
       "<style scoped>\n",
       "    .dataframe tbody tr th:only-of-type {\n",
       "        vertical-align: middle;\n",
       "    }\n",
       "\n",
       "    .dataframe tbody tr th {\n",
       "        vertical-align: top;\n",
       "    }\n",
       "\n",
       "    .dataframe thead th {\n",
       "        text-align: right;\n",
       "    }\n",
       "</style>\n",
       "<table border=\"1\" class=\"dataframe\">\n",
       "  <thead>\n",
       "    <tr style=\"text-align: right;\">\n",
       "      <th></th>\n",
       "      <th>level</th>\n",
       "      <th>topic</th>\n",
       "      <th>text</th>\n",
       "    </tr>\n",
       "  </thead>\n",
       "  <tbody>\n",
       "    <tr>\n",
       "      <th>0</th>\n",
       "      <td>A1</td>\n",
       "      <td>friends</td>\n",
       "      <td>Friends are people who you like and enjoy spen...</td>\n",
       "    </tr>\n",
       "    <tr>\n",
       "      <th>1</th>\n",
       "      <td>A2</td>\n",
       "      <td>friends</td>\n",
       "      <td>Friends are people who we like and care about....</td>\n",
       "    </tr>\n",
       "    <tr>\n",
       "      <th>2</th>\n",
       "      <td>B1</td>\n",
       "      <td>friends</td>\n",
       "      <td>Friends are people who we have a close relatio...</td>\n",
       "    </tr>\n",
       "    <tr>\n",
       "      <th>3</th>\n",
       "      <td>B2</td>\n",
       "      <td>friends</td>\n",
       "      <td>Friends are people who are close to us and who...</td>\n",
       "    </tr>\n",
       "    <tr>\n",
       "      <th>4</th>\n",
       "      <td>C1</td>\n",
       "      <td>friends</td>\n",
       "      <td>Friends are a vital part of our lives. They pr...</td>\n",
       "    </tr>\n",
       "  </tbody>\n",
       "</table>\n",
       "</div>"
      ],
      "text/plain": [
       "  level    topic                                               text\n",
       "0    A1  friends  Friends are people who you like and enjoy spen...\n",
       "1    A2  friends  Friends are people who we like and care about....\n",
       "2    B1  friends  Friends are people who we have a close relatio...\n",
       "3    B2  friends  Friends are people who are close to us and who...\n",
       "4    C1  friends  Friends are a vital part of our lives. They pr..."
      ]
     },
     "execution_count": 2,
     "metadata": {},
     "output_type": "execute_result"
    }
   ],
   "source": [
    "texts = pd.read_csv(\"../dat/texts.csv\")\n",
    "texts.head()"
   ]
  },
  {
   "cell_type": "code",
   "execution_count": 3,
   "id": "b93b4ec0",
   "metadata": {},
   "outputs": [
    {
     "data": {
      "text/plain": [
       "['Friends are people who you like and enjoy spending time with.',\n",
       " 'They are there for you when you need them and make you laugh.',\n",
       " 'You can talk to them about anything and they will always be there to listen.',\n",
       " 'Friends are important because they make life more fun and they help you to grow as a person.']"
      ]
     },
     "execution_count": 3,
     "metadata": {},
     "output_type": "execute_result"
    }
   ],
   "source": [
    "def get_sentences(text):\n",
    "    doc = nlp(text)\n",
    "    sentences = [token.text.strip() for token in doc.sents]\n",
    "    return list(sentences)\n",
    "\n",
    "texts[\"sentences\"] = texts.text.apply(get_sentences)\n",
    "texts[\"sentences\"][0]"
   ]
  },
  {
   "cell_type": "code",
   "execution_count": 4,
   "id": "83de983b",
   "metadata": {},
   "outputs": [],
   "source": [
    "texts = texts.explode(\"sentences\")"
   ]
  },
  {
   "cell_type": "code",
   "execution_count": 5,
   "id": "3dcdd2b6",
   "metadata": {},
   "outputs": [],
   "source": [
    "embeddings_model = SentenceTransformer('llmrails/ember-v1')\n",
    "embeddings = embeddings_model.encode(list(texts[\"sentences\"]))"
   ]
  },
  {
   "cell_type": "code",
   "execution_count": 6,
   "id": "6e91999b",
   "metadata": {},
   "outputs": [
    {
     "data": {
      "text/plain": [
       "(89, 1024)"
      ]
     },
     "execution_count": 6,
     "metadata": {},
     "output_type": "execute_result"
    }
   ],
   "source": [
    "embeddings.shape"
   ]
  },
  {
   "cell_type": "code",
   "execution_count": 7,
   "id": "2e9b50f1",
   "metadata": {},
   "outputs": [],
   "source": [
    "class FeedforwardNN(torch.nn.Module):\n",
    "    def __init__(self, input_dim, hidden_dim):\n",
    "        super(FeedforwardNN, self).__init__()\n",
    "        self.fc1 = torch.nn.Linear(input_dim, hidden_dim)\n",
    "        self.relu = torch.nn.ReLU()\n",
    "        self.fc2 = torch.nn.Linear(hidden_dim, 1)\n",
    "        self.sigmoid = torch.nn.Sigmoid()\n",
    "\n",
    "    def forward(self, x):\n",
    "        hidden = self.relu(self.fc1(x))\n",
    "        output = self.sigmoid(self.fc2(hidden))\n",
    "        return output"
   ]
  },
  {
   "cell_type": "code",
   "execution_count": 8,
   "id": "6141ceed",
   "metadata": {},
   "outputs": [],
   "source": [
    "egp = pd.read_csv('../dat/egponline.csv')"
   ]
  },
  {
   "cell_type": "code",
   "execution_count": 9,
   "id": "4b8034e0",
   "metadata": {},
   "outputs": [
    {
     "name": "stdout",
     "output_type": "stream",
     "text": [
      "Can form conditional subordinate clauses with 'if' + past simple, and would in the main clause, to talk about an imagined situation, often in the context of advice or opinion-giving. \n",
      "['* Be kind' '* Be positive.' '* Be supportive.' 'They are a gift.'\n",
      " 'They make us laugh.']\n",
      "Can use prepositional phrases in the front position for focus.\n",
      "['* Be kind' '* Be positive.' '* Be supportive.' 'They are a gift.'\n",
      " 'They make us laugh.']\n",
      "Can use an increasing range of adjectives before a noun to express intensity.\n",
      "['* Be kind' '* Be positive.' '* Be supportive.' 'They are a gift.'\n",
      " 'They make us laugh.' 'Third, be a good friend.']\n",
      "Can use nouns and noun phrases as complements of the verb 'be'. \n",
      "['* Be kind' '* Be supportive.' 'They make us laugh.']\n",
      "Can use the past perfect continuous in a relative clause to give background information.  ► relative clauses\n",
      "['* Be kind' '* Be positive.' '* Be supportive.'\n",
      " 'Some friends are male, while others are female.' 'They make us laugh.']\n",
      "Can use 'anything' with post-modifiers to form complex noun phrases as subjects with a singular verb, to give focus. \n",
      "['* Be kind' '* Be supportive.' 'They make us laugh.']\n"
     ]
    }
   ],
   "source": [
    "for model_file in os.listdir(\"../models\"):\n",
    "    print(str(egp[egp['#']==int(model_file[:-4])].iloc[0]['Can-do statement']))\n",
    "    model = torch.load(f\"../models/{model_file}\")\n",
    "    model.eval()\n",
    "    outputs = model(torch.Tensor(embeddings))\n",
    "    sents = np.array(texts[\"sentences\"])\n",
    "    \n",
    "    detected_sents = sents[np.array((outputs>0.5).squeeze())]\n",
    "    print(np.unique(detected_sents))"
   ]
  },
  {
   "cell_type": "code",
   "execution_count": null,
   "id": "6d86e8a6",
   "metadata": {},
   "outputs": [],
   "source": []
  }
 ],
 "metadata": {
  "kernelspec": {
   "display_name": "Python 3 (ipykernel)",
   "language": "python",
   "name": "python3"
  },
  "language_info": {
   "codemirror_mode": {
    "name": "ipython",
    "version": 3
   },
   "file_extension": ".py",
   "mimetype": "text/x-python",
   "name": "python",
   "nbconvert_exporter": "python",
   "pygments_lexer": "ipython3",
   "version": "3.11.5"
  }
 },
 "nbformat": 4,
 "nbformat_minor": 5
}
