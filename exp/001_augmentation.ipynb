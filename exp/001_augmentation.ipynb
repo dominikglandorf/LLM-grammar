{
 "cells": [
  {
   "cell_type": "markdown",
   "metadata": {},
   "source": [
    "# Data augmentation of EGP\n",
    "Let's first prompt for 10 more examples of 6 random constructions (1 per level) and for negative examples and manually evaluate them to check the pipeline."
   ]
  },
  {
   "cell_type": "code",
   "execution_count": 1,
   "metadata": {},
   "outputs": [],
   "source": [
    "import pandas as pd"
   ]
  },
  {
   "cell_type": "code",
   "execution_count": 2,
   "metadata": {},
   "outputs": [
    {
     "data": {
      "text/html": [
       "<div>\n",
       "<style scoped>\n",
       "    .dataframe tbody tr th:only-of-type {\n",
       "        vertical-align: middle;\n",
       "    }\n",
       "\n",
       "    .dataframe tbody tr th {\n",
       "        vertical-align: top;\n",
       "    }\n",
       "\n",
       "    .dataframe thead th {\n",
       "        text-align: right;\n",
       "    }\n",
       "</style>\n",
       "<table border=\"1\" class=\"dataframe\">\n",
       "  <thead>\n",
       "    <tr style=\"text-align: right;\">\n",
       "      <th></th>\n",
       "      <th>#</th>\n",
       "      <th>SuperCategory</th>\n",
       "      <th>SubCategory</th>\n",
       "      <th>Level</th>\n",
       "      <th>Lexical Range</th>\n",
       "      <th>guideword</th>\n",
       "      <th>Can-do statement</th>\n",
       "      <th>Example</th>\n",
       "    </tr>\n",
       "  </thead>\n",
       "  <tbody>\n",
       "    <tr>\n",
       "      <th>0</th>\n",
       "      <td>1</td>\n",
       "      <td>ADJECTIVES</td>\n",
       "      <td>combining</td>\n",
       "      <td>A1</td>\n",
       "      <td>NaN</td>\n",
       "      <td>FORM: COMBINING TWO ADJECTIVES WITH 'AND'</td>\n",
       "      <td>Can use 'and' to join a limited range of commo...</td>\n",
       "      <td>The teachers are very nice and friendly . (A1 ...</td>\n",
       "    </tr>\n",
       "    <tr>\n",
       "      <th>1</th>\n",
       "      <td>2</td>\n",
       "      <td>ADJECTIVES</td>\n",
       "      <td>combining</td>\n",
       "      <td>A2</td>\n",
       "      <td>NaN</td>\n",
       "      <td>FORM: COMBINING TWO ADJECTIVES WITH 'BUT'</td>\n",
       "      <td>Can use 'but' to join a limited range of commo...</td>\n",
       "      <td>The weather was cloudy but fine. (A2 WAYSTAGE;...</td>\n",
       "    </tr>\n",
       "    <tr>\n",
       "      <th>2</th>\n",
       "      <td>3</td>\n",
       "      <td>ADJECTIVES</td>\n",
       "      <td>combining</td>\n",
       "      <td>B1</td>\n",
       "      <td>NaN</td>\n",
       "      <td>FORM: BEFORE THE NOUN</td>\n",
       "      <td>Can use a comma to combine two adjectives used...</td>\n",
       "      <td>It was the biggest TV in the bazaar, with its ...</td>\n",
       "    </tr>\n",
       "    <tr>\n",
       "      <th>3</th>\n",
       "      <td>4</td>\n",
       "      <td>ADJECTIVES</td>\n",
       "      <td>combining</td>\n",
       "      <td>B1</td>\n",
       "      <td>NaN</td>\n",
       "      <td>FORM: COMBINING COMPARATIVE ADJECTIVES WITH 'AND'</td>\n",
       "      <td>Can use 'and' to join a limited range of compa...</td>\n",
       "      <td>In the winter you can go to the fitness centre...</td>\n",
       "    </tr>\n",
       "    <tr>\n",
       "      <th>4</th>\n",
       "      <td>5</td>\n",
       "      <td>ADJECTIVES</td>\n",
       "      <td>combining</td>\n",
       "      <td>B1</td>\n",
       "      <td>NaN</td>\n",
       "      <td>FORM: COMBINING MORE THAN TWO ADJECTIVES</td>\n",
       "      <td>Can use commas and 'and' to join more than two...</td>\n",
       "      <td>Her name is Cassia, she is beautiful, intellig...</td>\n",
       "    </tr>\n",
       "  </tbody>\n",
       "</table>\n",
       "</div>"
      ],
      "text/plain": [
       "   # SuperCategory SubCategory Level  Lexical Range  \\\n",
       "0  1    ADJECTIVES   combining    A1            NaN   \n",
       "1  2    ADJECTIVES   combining    A2            NaN   \n",
       "2  3    ADJECTIVES   combining    B1            NaN   \n",
       "3  4    ADJECTIVES   combining    B1            NaN   \n",
       "4  5    ADJECTIVES   combining    B1            NaN   \n",
       "\n",
       "                                           guideword  \\\n",
       "0          FORM: COMBINING TWO ADJECTIVES WITH 'AND'   \n",
       "1          FORM: COMBINING TWO ADJECTIVES WITH 'BUT'   \n",
       "2                              FORM: BEFORE THE NOUN   \n",
       "3  FORM: COMBINING COMPARATIVE ADJECTIVES WITH 'AND'   \n",
       "4          FORM: COMBINING MORE THAN TWO ADJECTIVES    \n",
       "\n",
       "                                    Can-do statement  \\\n",
       "0  Can use 'and' to join a limited range of commo...   \n",
       "1  Can use 'but' to join a limited range of commo...   \n",
       "2  Can use a comma to combine two adjectives used...   \n",
       "3  Can use 'and' to join a limited range of compa...   \n",
       "4  Can use commas and 'and' to join more than two...   \n",
       "\n",
       "                                             Example  \n",
       "0  The teachers are very nice and friendly . (A1 ...  \n",
       "1  The weather was cloudy but fine. (A2 WAYSTAGE;...  \n",
       "2  It was the biggest TV in the bazaar, with its ...  \n",
       "3  In the winter you can go to the fitness centre...  \n",
       "4  Her name is Cassia, she is beautiful, intellig...  "
      ]
     },
     "execution_count": 2,
     "metadata": {},
     "output_type": "execute_result"
    }
   ],
   "source": [
    "egp = pd.read_csv('../dat/egponline.csv')\n",
    "egp.head()"
   ]
  },
  {
   "cell_type": "markdown",
   "metadata": {},
   "source": [
    "Sample from every level"
   ]
  },
  {
   "cell_type": "code",
   "execution_count": 3,
   "metadata": {},
   "outputs": [
    {
     "data": {
      "text/html": [
       "<div>\n",
       "<style scoped>\n",
       "    .dataframe tbody tr th:only-of-type {\n",
       "        vertical-align: middle;\n",
       "    }\n",
       "\n",
       "    .dataframe tbody tr th {\n",
       "        vertical-align: top;\n",
       "    }\n",
       "\n",
       "    .dataframe thead th {\n",
       "        text-align: right;\n",
       "    }\n",
       "</style>\n",
       "<table border=\"1\" class=\"dataframe\">\n",
       "  <thead>\n",
       "    <tr style=\"text-align: right;\">\n",
       "      <th></th>\n",
       "      <th>#</th>\n",
       "      <th>SuperCategory</th>\n",
       "      <th>SubCategory</th>\n",
       "      <th>Level</th>\n",
       "      <th>Lexical Range</th>\n",
       "      <th>guideword</th>\n",
       "      <th>Can-do statement</th>\n",
       "      <th>Example</th>\n",
       "    </tr>\n",
       "  </thead>\n",
       "  <tbody>\n",
       "    <tr>\n",
       "      <th>180</th>\n",
       "      <td>181</td>\n",
       "      <td>CLAUSES</td>\n",
       "      <td>declarative</td>\n",
       "      <td>A1</td>\n",
       "      <td>NaN</td>\n",
       "      <td>FORM: NEGATIVE DECLARATIVE, LEXICAL VERBS</td>\n",
       "      <td>Can form simple negative declarative clauses.</td>\n",
       "      <td>I don't like maths. (A1 BREAKTHROUGH; 2007; Fa...</td>\n",
       "    </tr>\n",
       "    <tr>\n",
       "      <th>653</th>\n",
       "      <td>654</td>\n",
       "      <td>NOUNS</td>\n",
       "      <td>noun phrases</td>\n",
       "      <td>A2</td>\n",
       "      <td>NaN</td>\n",
       "      <td>FORM: WITH RELATIVE CLAUSE AS POSTMODIFIER</td>\n",
       "      <td>Can post-modify noun phrases by using a non-de...</td>\n",
       "      <td>She's in a volleyball team like me, but we're ...</td>\n",
       "    </tr>\n",
       "    <tr>\n",
       "      <th>857</th>\n",
       "      <td>858</td>\n",
       "      <td>PRESENT</td>\n",
       "      <td>present continuous</td>\n",
       "      <td>B1</td>\n",
       "      <td>NaN</td>\n",
       "      <td>USE: TEMPORARY REPEATED ACTIONS</td>\n",
       "      <td>Can use the present continuous to describe tem...</td>\n",
       "      <td>I'm doing a lot of great leisure activities. (...</td>\n",
       "    </tr>\n",
       "    <tr>\n",
       "      <th>953</th>\n",
       "      <td>954</td>\n",
       "      <td>PRONOUNS</td>\n",
       "      <td>demonstratives</td>\n",
       "      <td>B2</td>\n",
       "      <td>NaN</td>\n",
       "      <td>FORM/USE: 'THOSE', SUBSTITUTION</td>\n",
       "      <td>Can use 'those' as a substitute, followed by a...</td>\n",
       "      <td>Moreover, for those who are not interested in ...</td>\n",
       "    </tr>\n",
       "    <tr>\n",
       "      <th>280</th>\n",
       "      <td>281</td>\n",
       "      <td>CONJUNCTIONS</td>\n",
       "      <td>subordinating</td>\n",
       "      <td>C1</td>\n",
       "      <td>NaN</td>\n",
       "      <td>FORM/USE: FOCUS</td>\n",
       "      <td>Can use 'whatever', 'wherever', 'however', etc...</td>\n",
       "      <td>Whatever you choose, you'll probably have to s...</td>\n",
       "    </tr>\n",
       "    <tr>\n",
       "      <th>1046</th>\n",
       "      <td>1047</td>\n",
       "      <td>VERBS</td>\n",
       "      <td>phrasal-prepositional</td>\n",
       "      <td>C2</td>\n",
       "      <td>NaN</td>\n",
       "      <td>FORM: VERB + DIRECT OBJECT + PARTICLE + PREPOS...</td>\n",
       "      <td>Can use a direct object with some prepositiona...</td>\n",
       "      <td>It is widely accepted that being a loyal and t...</td>\n",
       "    </tr>\n",
       "  </tbody>\n",
       "</table>\n",
       "</div>"
      ],
      "text/plain": [
       "         # SuperCategory            SubCategory Level  Lexical Range  \\\n",
       "180    181       CLAUSES            declarative    A1            NaN   \n",
       "653    654         NOUNS           noun phrases    A2            NaN   \n",
       "857    858       PRESENT     present continuous    B1            NaN   \n",
       "953    954      PRONOUNS         demonstratives    B2            NaN   \n",
       "280    281  CONJUNCTIONS          subordinating    C1            NaN   \n",
       "1046  1047         VERBS  phrasal-prepositional    C2            NaN   \n",
       "\n",
       "                                              guideword  \\\n",
       "180           FORM: NEGATIVE DECLARATIVE, LEXICAL VERBS   \n",
       "653          FORM: WITH RELATIVE CLAUSE AS POSTMODIFIER   \n",
       "857                     USE: TEMPORARY REPEATED ACTIONS   \n",
       "953                    FORM/USE: 'THOSE', SUBSTITUTION    \n",
       "280                                     FORM/USE: FOCUS   \n",
       "1046  FORM: VERB + DIRECT OBJECT + PARTICLE + PREPOS...   \n",
       "\n",
       "                                       Can-do statement  \\\n",
       "180       Can form simple negative declarative clauses.   \n",
       "653   Can post-modify noun phrases by using a non-de...   \n",
       "857   Can use the present continuous to describe tem...   \n",
       "953   Can use 'those' as a substitute, followed by a...   \n",
       "280   Can use 'whatever', 'wherever', 'however', etc...   \n",
       "1046  Can use a direct object with some prepositiona...   \n",
       "\n",
       "                                                Example  \n",
       "180   I don't like maths. (A1 BREAKTHROUGH; 2007; Fa...  \n",
       "653   She's in a volleyball team like me, but we're ...  \n",
       "857   I'm doing a lot of great leisure activities. (...  \n",
       "953   Moreover, for those who are not interested in ...  \n",
       "280   Whatever you choose, you'll probably have to s...  \n",
       "1046  It is widely accepted that being a loyal and t...  "
      ]
     },
     "execution_count": 3,
     "metadata": {},
     "output_type": "execute_result"
    }
   ],
   "source": [
    "egp_samples = egp.groupby('Level', group_keys=False).apply(pd.DataFrame.sample)\n",
    "egp_samples.head(n=6)"
   ]
  },
  {
   "cell_type": "markdown",
   "metadata": {},
   "source": [
    "Let's have a closer look at the structure of the Example column:"
   ]
  },
  {
   "cell_type": "code",
   "execution_count": 4,
   "metadata": {},
   "outputs": [
    {
     "name": "stdout",
     "output_type": "stream",
     "text": [
      "I don't like maths. (A1 BREAKTHROUGH; 2007; Farsi; Pass)\n",
      "\n",
      "I don't have children. (A1 BREAKTHROUGH; 2008; Polish; Pass)\n",
      "\n",
      "I don't know. (A1 BREAKTHROUGH; 2009; French; Pass)\n"
     ]
    }
   ],
   "source": [
    "print(egp_samples.Example.iloc[0])"
   ]
  },
  {
   "cell_type": "markdown",
   "metadata": {},
   "source": [
    "Let's remove the additional information."
   ]
  },
  {
   "cell_type": "code",
   "execution_count": 5,
   "metadata": {},
   "outputs": [
    {
     "name": "stdout",
     "output_type": "stream",
     "text": [
      "I don't like maths. \n",
      "\n",
      "I don't have children. \n",
      "\n",
      "I don't know.\n"
     ]
    }
   ],
   "source": [
    "egp_samples['Example'] = egp_samples['Example'].str.replace(r\"\\(.*\\)\", \"\", regex=True).str.strip()\n",
    "print(egp_samples['Example'].iloc[0])"
   ]
  },
  {
   "cell_type": "markdown",
   "metadata": {},
   "source": [
    "Let's assemble the prompt."
   ]
  },
  {
   "cell_type": "code",
   "execution_count": 14,
   "metadata": {},
   "outputs": [
    {
     "name": "stdout",
     "output_type": "stream",
     "text": [
      "Create an enumerated list of 20 more examples for grammatical construction on CEFR level C2 in the category \"VERBS: phrasal-prepositional\" with guideword \"FORM: VERB + DIRECT OBJECT + PARTICLE + PREPOSITION + OBJECT\" and the rule: \"Can use a direct object with some prepositional verbs as well as an object of the preposition.\"\n",
      "\n",
      "Here are examples:\n",
      "\n",
      "It is widely accepted that being a loyal and trusted individual means that the people around us can trust us or let us in on a secret.\n"
     ]
    }
   ],
   "source": [
    "construction = egp_samples.iloc[5]\n",
    "num_examples = 20\n",
    "prompt = f'Create an enumerated list of {num_examples} more examples for grammatical construction on CEFR level {construction[\"Level\"]} in the category \"{construction[\"SuperCategory\"]}: {construction[\"SubCategory\"]}\" with guideword \"{construction[\"guideword\"]}\" and the rule: \"{construction[\"Can-do statement\"]}\"\\n\\nHere are examples:\\n\\n{construction[\"Example\"]}'\n",
    "\n",
    "print(prompt)"
   ]
  },
  {
   "cell_type": "markdown",
   "metadata": {},
   "source": [
    "Let's add the prompt as a column to the dataframe:"
   ]
  },
  {
   "cell_type": "code",
   "execution_count": 25,
   "metadata": {},
   "outputs": [
    {
     "data": {
      "text/plain": [
       "'Create an enumerated list of 20 more examples for grammatical construction on CEFR level A1 in the category \"CLAUSES: declarative\" with guideword \"FORM: NEGATIVE DECLARATIVE, LEXICAL VERBS\" and the rule: \"Can form simple negative declarative clauses.\"\\n\\nHere are examples:\\n\\nI don\\'t like maths. \\n\\nI don\\'t have children. \\n\\nI don\\'t know.'"
      ]
     },
     "execution_count": 25,
     "metadata": {},
     "output_type": "execute_result"
    }
   ],
   "source": [
    "def get_prompt(construction):\n",
    "    return f'Create an enumerated list of {num_examples} more examples for grammatical construction on CEFR level {construction[\"Level\"]} in the category \"{construction[\"SuperCategory\"]}: {construction[\"SubCategory\"]}\" with guideword \"{construction[\"guideword\"]}\" and the rule: \"{construction[\"Can-do statement\"]}\"\\n\\nHere are examples:\\n\\n{construction[\"Example\"]}'\n",
    "\n",
    "egp_samples['prompt'] = egp_samples.apply(get_prompt, axis=1)\n",
    "\n",
    "egp_samples['prompt'].iloc[0]"
   ]
  },
  {
   "cell_type": "markdown",
   "metadata": {},
   "source": [
    "Now let's access the openai ChatCompletion API"
   ]
  },
  {
   "cell_type": "code",
   "execution_count": 8,
   "metadata": {},
   "outputs": [],
   "source": [
    "import openai\n",
    "import sys\n",
    "import os\n",
    "\n",
    "sys.path.append(os.path.dirname(os.getcwd()))\n",
    "import config\n",
    "openai.api_key = config.OPENAI_API_KEY"
   ]
  },
  {
   "cell_type": "code",
   "execution_count": 17,
   "metadata": {},
   "outputs": [],
   "source": [
    "response = openai.ChatCompletion.create(\n",
    "    model=config.OPENAI_MODEL,\n",
    "    messages=[\n",
    "        {\"role\": \"system\", \"content\": \"You are an English as a foreign language teacher who is knowledgable about grammar.\"},\n",
    "        {\"role\": \"user\", \"content\": prompt}\n",
    "    ]\n",
    ")"
   ]
  },
  {
   "cell_type": "code",
   "execution_count": 20,
   "metadata": {},
   "outputs": [],
   "source": [
    "msg_content = response.choices[0].message.content"
   ]
  },
  {
   "cell_type": "code",
   "execution_count": 19,
   "metadata": {},
   "outputs": [],
   "source": [
    "msg_content = \"Premable bla bla bla. \" + msg_content"
   ]
  },
  {
   "cell_type": "code",
   "execution_count": 29,
   "metadata": {},
   "outputs": [],
   "source": [
    "import re"
   ]
  },
  {
   "cell_type": "code",
   "execution_count": 30,
   "metadata": {},
   "outputs": [
    {
     "data": {
      "text/plain": [
       "[\"I can't believe she called off the meeting with just a few hours' notice.\",\n",
       " 'The manager deals with customer complaints by listening carefully and following up promptly.',\n",
       " 'We need to get rid of these old files to make space for new ones.',\n",
       " \"The students handed in their assignments to the professor's assistant.\",\n",
       " 'The chef cooked up a delicious meal for the guests.',\n",
       " \"The teacher pointed out the mistakes in the students' essays.\",\n",
       " 'He put off making a decision until he had gathered more information.',\n",
       " 'The team carried out an experiment to test their hypothesis.',\n",
       " 'I picked up the book from the library and returned it on time.',\n",
       " 'She turned down the invitation because she already had plans.',\n",
       " 'We ran out of milk, so I went to the store to buy some more.',\n",
       " \"They're looking for volunteers to help out at the event.\",\n",
       " 'The doctor advised the patient to cut out sugary drinks from their diet.',\n",
       " 'The police broke up the fight before it escalated further.',\n",
       " 'He took on the responsibility of organizing the charity event.',\n",
       " 'The journalist followed up on the lead by conducting interviews.',\n",
       " 'They called off the search when they found the missing person.',\n",
       " \"I can't wait to try out the new recipe and share it with my friends.\",\n",
       " 'She turned up the volume on the radio to enjoy her favorite song.',\n",
       " 'We reached out to experts in the field for their input on the matter.']"
      ]
     },
     "execution_count": 30,
     "metadata": {},
     "output_type": "execute_result"
    }
   ],
   "source": [
    "lines = msg_content.split('\\n')\n",
    "[re.sub(r'^\\d+\\.\\s*', '', line).strip() for line in lines]"
   ]
  },
  {
   "cell_type": "markdown",
   "metadata": {},
   "source": [
    "Now let's do this for every row in our dataframe."
   ]
  },
  {
   "cell_type": "code",
   "execution_count": 31,
   "metadata": {},
   "outputs": [],
   "source": [
    "def get_examples(construction):\n",
    "    print(construction['prompt'])\n",
    "    response = openai.ChatCompletion.create(\n",
    "        model=config.OPENAI_MODEL,\n",
    "        messages=[\n",
    "            {\"role\": \"system\", \"content\": \"You are an English as a foreign language teacher who is knowledgable about grammar.\"},\n",
    "            {\"role\": \"user\", \"content\": construction['prompt']}\n",
    "        ]\n",
    "    )\n",
    "    msg_content = response.choices[0].message.content\n",
    "    print(msg_content)\n",
    "    lines = msg_content.split('\\n')\n",
    "    return [re.sub(r'^\\d+\\.\\s*', '', line).strip() for line in lines]"
   ]
  },
  {
   "cell_type": "code",
   "execution_count": 32,
   "metadata": {},
   "outputs": [
    {
     "name": "stdout",
     "output_type": "stream",
     "text": [
      "Create an enumerated list of 20 more examples for grammatical construction on CEFR level A1 in the category \"CLAUSES: declarative\" with guideword \"FORM: NEGATIVE DECLARATIVE, LEXICAL VERBS\" and the rule: \"Can form simple negative declarative clauses.\"\n",
      "\n",
      "Here are examples:\n",
      "\n",
      "I don't like maths. \n",
      "\n",
      "I don't have children. \n",
      "\n",
      "I don't know.\n",
      "1. He doesn't play golf.\n",
      "2. She doesn't eat meat.\n",
      "3. They don't speak French.\n",
      "4. We don't live in the city.\n",
      "5. It doesn't rain often.\n",
      "6. Mary doesn't work on weekends.\n",
      "7. John doesn't drive a car.\n",
      "8. The dog doesn't bark at strangers.\n",
      "9. He doesn't watch TV in the evening.\n",
      "10. She doesn't like spicy food.\n",
      "11. They don't understand the question.\n",
      "12. We don't have any bananas left.\n",
      "13. The cat doesn't like to be petted.\n",
      "14. He doesn't go to the gym.\n",
      "15. She doesn't drink coffee.\n",
      "16. They don't play musical instruments.\n",
      "17. We don't go on vacation during winter.\n",
      "18. It doesn't snow in this region.\n",
      "19. Mary doesn't like horror movies.\n",
      "20. John doesn't believe in ghosts.\n",
      "Create an enumerated list of 20 more examples for grammatical construction on CEFR level A2 in the category \"NOUNS: noun phrases\" with guideword \"FORM: WITH RELATIVE CLAUSE AS POSTMODIFIER\" and the rule: \"Can post-modify noun phrases by using a non-defining relative clause. ► Clauses: relative\"\n",
      "\n",
      "Here are examples:\n",
      "\n",
      "She's in a volleyball team like me, but we're not in the same one. She was for the other team, which lost. \n",
      "\n",
      "You can always visit our Shopping Centre, which is one of the biggest in Brazil.\n",
      "1. We went to the amusement park, which had many thrilling rides.\n",
      "2. My sister bought a new car, which she loves.\n",
      "3. The book I'm reading, which was recommended by my friend, is very interesting.\n",
      "4. Have you seen the new movie, which stars your favorite actor?\n",
      "5. This is the house, which has a beautiful garden.\n",
      "6. I tried the new restaurant, which serves delicious food.\n",
      "7. I met John's sister, who is a talented artist.\n",
      "8. The city I visited last summer, which is known for its historical sites, was amazing.\n",
      "9. Can you pass me the book, which is on the table?\n",
      "10. The boy, who won the race, is only ten years old.\n",
      "11. She bought a dress, which was on sale.\n",
      "12. The hotel we stayed at, which had a swimming pool, was very luxurious.\n",
      "13. My neighbor, who is a doctor, helped me when I was sick.\n",
      "14. The dog, which was abandoned, needs a loving home.\n",
      "15. The hat, which matches my outfit perfectly, is my favorite.\n",
      "16. I met a girl at the party, who was from Spain.\n",
      "17. He drives a red car, which he bought last year.\n",
      "18. This is the chocolate cake, which is my specialty.\n",
      "19. The beach we visited last summer, which had crystal clear water, was breathtaking.\n",
      "20. The pen, which I found on the street, writes beautifully.\n",
      "Create an enumerated list of 20 more examples for grammatical construction on CEFR level B1 in the category \"PRESENT: present continuous\" with guideword \"USE: TEMPORARY REPEATED ACTIONS\" and the rule: \"Can use the present continuous to describe temporary actions which are repeated or regular.\"\n",
      "\n",
      "Here are examples:\n",
      "\n",
      "I'm doing a lot of great leisure activities. \n",
      "\n",
      "[talking about an interactive internet game which is played over a period of time] I'm playing this exciting game called Diner Dash; it's about making a restaurant. \n",
      "\n",
      "I have to go to the doctor because I'm having some problems.\n",
      "4. My sister is staying with us this week.\n",
      "5. They are meeting for coffee every morning this month.\n",
      "6. I'm taking a dance class at the community center.\n",
      "7. He is working on a new project at work.\n",
      "8. We are going on vacation next week.\n",
      "9. The team is practicing for the upcoming match.\n",
      "10. She is studying for her final exams.\n",
      "11. They are rehearsing for the school play.\n",
      "12. I'm learning how to play the piano.\n",
      "13. We are watching a lot of movies on Netflix.\n",
      "14. The kids are playing outside with their friends.\n",
      "15. He is taking Spanish lessons to prepare for his trip.\n",
      "16. We are doing a lot of cooking and baking during the holidays.\n",
      "17. My dad is teaching me how to fix a car.\n",
      "18. She is volunteering at the local shelter every weekend.\n",
      "19. They are working on a group project for school.\n",
      "20. We are growing our own vegetables in the backyard.\n",
      "Create an enumerated list of 20 more examples for grammatical construction on CEFR level B2 in the category \"PRONOUNS: demonstratives\" with guideword \"FORM/USE: 'THOSE', SUBSTITUTION \" and the rule: \"Can use 'those' as a substitute, followed by a relative clause or '-ed' or '-ing'. \"\n",
      "\n",
      "Here are examples:\n",
      "\n",
      "Moreover, for those who are not interested in sports and who prefer shopping, it would be a good idea to prevent cars and especially lorries from running in the center of the town. \n",
      "\n",
      "In my opinion students should be forced to study all of the subjects, not only those which are enjoyable. \n",
      "\n",
      "[talking about buildings]  Those that can be rebuilt wouldn't be demolished. \n",
      "\n",
      "The opening hours of the store came in for a lot of praise, with 87% of those surveyed ranking it as good. \n",
      "\n",
      "All those attending are requested to be on time.\n",
      "I can provide examples for the given rule and category, but I would like to clarify the format you're looking for. Should each example be a separate bullet point, or would you prefer them to be presented in a paragraph? Please let me know your preference so I can assist you more effectively.\n",
      "Create an enumerated list of 20 more examples for grammatical construction on CEFR level C1 in the category \"CONJUNCTIONS: subordinating\" with guideword \"FORM/USE: FOCUS\" and the rule: \"Can use 'whatever', 'wherever', 'however', etc. as a subordinating conjunction, at the beginning of a sentence, to give focus.\"\n",
      "\n",
      "Here are examples:\n",
      "\n",
      "Whatever you choose, you'll probably have to share it with other people. \n",
      "\n",
      "Whatever the cause of the fall in the standard of your services is, we would strongly recommend that you take all the necessary measures to make sure that this won't happen again. \n",
      "\n",
      "Wherever you go, you find shops, hotels and pubs which are full of tourists. \n",
      "\n",
      "Whoever we appoint, he/she should be a well-qualified, educated and flexible person.\n",
      "However hard you try, you can't change the past. \n",
      "\n",
      "However much it costs, we need to invest in renewable energy. \n",
      "\n",
      "Whichever option you choose, make sure it aligns with your long-term goals. \n",
      "\n",
      "Whichever country you visit, make an effort to learn a few basic phrases in the local language. \n",
      "\n",
      "No matter how many times you tell him, he never seems to understand. \n",
      "\n",
      "No matter how hard I study, I always struggle with grammar. \n",
      "\n",
      "Whenever I see her, she always has a smile on her face. \n",
      "\n",
      "Whenever I hear that song, it brings back memories of my childhood. \n",
      "\n",
      "Whomever you invite to the party, make sure they get along with the other guests. \n",
      "\n",
      "Whomever you speak to, please pass on the message that the meeting has been cancelled. \n",
      "\n",
      "However much time you spend on social media, make sure to also spend time connecting with people in person. \n",
      "\n",
      "However many problems we encounter, we manage to find a solution. \n",
      "\n",
      "Regardless of what the weather forecast says, always bring an umbrella with you. \n",
      "\n",
      "Regardless of how tired I am, I always make time for a workout. \n",
      "\n",
      "Whatever the outcome of the election is, we must accept it and move forward. \n",
      "\n",
      "Whatever you decide, I will support you. \n",
      "\n",
      "Wherever life takes you, remember that your family will always be there to support you. \n",
      "\n",
      "Wherever you may be, know that you are always in my thoughts. \n",
      "\n",
      "However busy you are, always make time for self-care. \n",
      "\n",
      "However long it takes, I will wait for you.\n",
      "Create an enumerated list of 20 more examples for grammatical construction on CEFR level C2 in the category \"VERBS: phrasal-prepositional\" with guideword \"FORM: VERB + DIRECT OBJECT + PARTICLE + PREPOSITION + OBJECT\" and the rule: \"Can use a direct object with some prepositional verbs as well as an object of the preposition.\"\n",
      "\n",
      "Here are examples:\n",
      "\n",
      "It is widely accepted that being a loyal and trusted individual means that the people around us can trust us or let us in on a secret.\n",
      "1. She always takes care of her younger siblings by looking after them when their parents are away.\n",
      "2. The teacher called upon the students to participate actively in class discussions.\n",
      "3. He turned down the job offer due to the long commute to the office.\n",
      "4. John often makes fun of his colleagues by teasing them good-naturedly.\n",
      "5. The government decided to crack down on illegal activities by strengthening law enforcement.\n",
      "6. Helen put up with her roommate's messy behavior for a long time before finally confronting her.\n",
      "7. The company called off the meeting due to unforeseen circumstances.\n",
      "8. Tom helped out his friend by lending him some money.\n",
      "9. The students looked up to their inspiring teacher for guidance and support.\n",
      "10. The police carried out a thorough investigation into the crime.\n",
      "11. Sarah turned up at the party unexpectedly, surprising everyone.\n",
      "12. The team came across a hidden treasure while exploring the cave.\n",
      "13. The manager put forward a proposal to improve efficiency in the workplace.\n",
      "14. We need to do away with outdated traditions and embrace new ideas.\n",
      "15. The film brings back memories of my childhood.\n",
      "16. The project manager put in extra hours to meet the deadline.\n",
      "17. The company provides for its employees' welfare by offering health insurance plans.\n",
      "18. The singer broke into song during the event, captivating the audience.\n",
      "19. The students handed in their assignments before the deadline.\n",
      "20. Jane signed up for an art class to broaden her creative skills.\n"
     ]
    },
    {
     "data": {
      "text/plain": [
       "180     [He doesn't play golf., She doesn't eat meat.,...\n",
       "653     [We went to the amusement park, which had many...\n",
       "857     [My sister is staying with us this week., They...\n",
       "953     [I can provide examples for the given rule and...\n",
       "280     [However hard you try, you can't change the pa...\n",
       "1046    [She always takes care of her younger siblings...\n",
       "Name: augmented_examples, dtype: object"
      ]
     },
     "execution_count": 32,
     "metadata": {},
     "output_type": "execute_result"
    }
   ],
   "source": [
    "egp_samples['augmented_examples'] = egp_samples.apply(get_examples, axis=1)\n",
    "\n",
    "egp_samples['augmented_examples']"
   ]
  },
  {
   "cell_type": "code",
   "execution_count": 33,
   "metadata": {},
   "outputs": [],
   "source": [
    "egp_samples.to_json('../dat/egpaugmented.json')"
   ]
  },
  {
   "cell_type": "code",
   "execution_count": null,
   "metadata": {},
   "outputs": [],
   "source": []
  }
 ],
 "metadata": {
  "kernelspec": {
   "display_name": "llm-grammar",
   "language": "python",
   "name": "python3"
  },
  "language_info": {
   "codemirror_mode": {
    "name": "ipython",
    "version": 3
   },
   "file_extension": ".py",
   "mimetype": "text/x-python",
   "name": "python",
   "nbconvert_exporter": "python",
   "pygments_lexer": "ipython3",
   "version": "3.11.5"
  }
 },
 "nbformat": 4,
 "nbformat_minor": 2
}
