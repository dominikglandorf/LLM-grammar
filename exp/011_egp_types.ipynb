{
 "cells": [
  {
   "cell_type": "markdown",
   "id": "a5da2616-56c6-43b4-8fcf-1382c1bebac6",
   "metadata": {},
   "source": [
    "# Exp11: Separate EGP by types of construction"
   ]
  },
  {
   "cell_type": "markdown",
   "id": "aa6a565a-7a62-4fc0-ba73-47d750b43dd0",
   "metadata": {},
   "source": [
    "The goal is to extract a helpful distinction regarding the constructions from the EGP: whether a construction is defined by the FORM, USE, or both"
   ]
  },
  {
   "cell_type": "code",
   "execution_count": 1,
   "id": "e9534aa3-ac4a-417f-b072-4d626d75b2f6",
   "metadata": {},
   "outputs": [],
   "source": [
    "import pandas as pd\n",
    "import sys\n",
    "import os\n",
    "sys.path.append(os.path.dirname(os.getcwd()))\n",
    "import config"
   ]
  },
  {
   "cell_type": "code",
   "execution_count": 20,
   "id": "d8cf194d-31c0-4e97-b6a7-7e04986f99dd",
   "metadata": {},
   "outputs": [
    {
     "data": {
      "text/plain": [
       "21         FORM/USE: WITH '(SO) MUCH' \n",
       "22    FORM/USE: WITH 'A (LITTLE) BIT' \n",
       "23                FORM/USE: WITH 'AND'\n",
       "Name: guideword, dtype: object"
      ]
     },
     "execution_count": 20,
     "metadata": {},
     "output_type": "execute_result"
    }
   ],
   "source": [
    "egp = pd.read_csv('../dat/egponline.csv')\n",
    "egp['guideword'].iloc[21:24]"
   ]
  },
  {
   "cell_type": "code",
   "execution_count": 16,
   "id": "0badcfc1-dc00-4ee2-b004-8e01e6939884",
   "metadata": {},
   "outputs": [],
   "source": [
    "def detect_type(guideword):\n",
    "    if \"FORM/USE\" in guideword: return \"FORM/USE\"\n",
    "    if \"FORM\" in guideword: return \"FORM\"\n",
    "    if \"USE\" in guideword: return \"USE\"\n",
    "    return \"FORM/USE\"\n",
    "egp['type'] = egp['guideword'].apply(detect_type)"
   ]
  },
  {
   "cell_type": "code",
   "execution_count": 18,
   "id": "59f59550-7a4b-4709-be20-2096a04200e3",
   "metadata": {},
   "outputs": [],
   "source": [
    "egp.to_csv('../dat/egponline.csv', index=False)"
   ]
  }
 ],
 "metadata": {
  "kernelspec": {
   "display_name": "Python 3 (ipykernel)",
   "language": "python",
   "name": "python3"
  },
  "language_info": {
   "codemirror_mode": {
    "name": "ipython",
    "version": 3
   },
   "file_extension": ".py",
   "mimetype": "text/x-python",
   "name": "python",
   "nbconvert_exporter": "python",
   "pygments_lexer": "ipython3",
   "version": "3.11.5"
  }
 },
 "nbformat": 4,
 "nbformat_minor": 5
}
