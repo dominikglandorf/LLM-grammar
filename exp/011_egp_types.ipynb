{
 "cells": [
  {
   "cell_type": "markdown",
   "id": "a5da2616-56c6-43b4-8fcf-1382c1bebac6",
   "metadata": {},
   "source": [
    "# Exp11: Separate EGP by types of construction"
   ]
  },
  {
   "cell_type": "markdown",
   "id": "aa6a565a-7a62-4fc0-ba73-47d750b43dd0",
   "metadata": {},
   "source": [
    "The goal is to extract a helpful distinction regarding the constructions from the EGP: whether a construction is defined by the FORM, USE, or both"
   ]
  },
  {
   "cell_type": "code",
   "execution_count": 19,
   "id": "e9534aa3-ac4a-417f-b072-4d626d75b2f6",
   "metadata": {},
   "outputs": [],
   "source": [
    "import pandas as pd\n",
    "import sys\n",
    "import os\n",
    "sys.path.append(os.path.dirname(os.getcwd()))\n",
    "import config"
   ]
  },
  {
   "cell_type": "code",
   "execution_count": 20,
   "id": "d8cf194d-31c0-4e97-b6a7-7e04986f99dd",
   "metadata": {},
   "outputs": [
    {
     "data": {
      "text/plain": [
       "21         FORM/USE: WITH '(SO) MUCH' \n",
       "22    FORM/USE: WITH 'A (LITTLE) BIT' \n",
       "23                FORM/USE: WITH 'AND'\n",
       "Name: guideword, dtype: object"
      ]
     },
     "execution_count": 20,
     "metadata": {},
     "output_type": "execute_result"
    }
   ],
   "source": [
    "egp = pd.read_csv('../dat/egponline.csv')\n",
    "egp['guideword'].iloc[21:24]"
   ]
  },
  {
   "cell_type": "code",
   "execution_count": 16,
   "id": "0badcfc1-dc00-4ee2-b004-8e01e6939884",
   "metadata": {},
   "outputs": [],
   "source": [
    "def detect_type(guideword):\n",
    "    if \"FORM/USE\" in guideword: return \"FORM/USE\"\n",
    "    if \"FORM\" in guideword: return \"FORM\"\n",
    "    if \"USE\" in guideword: return \"USE\"\n",
    "    return \"FORM/USE\"\n",
    "egp['type'] = egp['guideword'].apply(detect_type)"
   ]
  },
  {
   "cell_type": "code",
   "execution_count": 18,
   "id": "59f59550-7a4b-4709-be20-2096a04200e3",
   "metadata": {},
   "outputs": [],
   "source": [
    "egp.to_csv('../dat/egponline.csv')"
   ]
  },
  {
   "cell_type": "code",
   "execution_count": 30,
   "id": "1b8584e9-079c-4dc3-abf7-c86e21857683",
   "metadata": {},
   "outputs": [],
   "source": [
    "egp.groupby(['Level', 'type'], group_keys=False).apply(lambda x: x.sample(min(len(x), 3), random_state=config.SEED))"
   ]
  },
  {
   "cell_type": "code",
   "execution_count": 88,
   "id": "5cffe013-d300-4f45-901c-e021ac41a740",
   "metadata": {},
   "outputs": [
    {
     "data": {
      "text/plain": [
       "0.7169811320754716"
      ]
     },
     "execution_count": 88,
     "metadata": {},
     "output_type": "execute_result"
    }
   ],
   "source": [
    "df = pd.read_json(\"../dat/egpaugmented_54x100.json\")\n",
    "num_exps = df['augmented_examples'].apply(len)\n",
    "num_exps[num_exps>=500].count() / len(num_exps)"
   ]
  },
  {
   "cell_type": "code",
   "execution_count": null,
   "id": "d278a5d5-1a44-4824-a320-cbd1b3f40ae8",
   "metadata": {},
   "outputs": [],
   "source": []
  }
 ],
 "metadata": {
  "kernelspec": {
   "display_name": "Python 3 (ipykernel)",
   "language": "python",
   "name": "python3"
  },
  "language_info": {
   "codemirror_mode": {
    "name": "ipython",
    "version": 3
   },
   "file_extension": ".py",
   "mimetype": "text/x-python",
   "name": "python",
   "nbconvert_exporter": "python",
   "pygments_lexer": "ipython3",
   "version": "3.11.5"
  }
 },
 "nbformat": 4,
 "nbformat_minor": 5
}
