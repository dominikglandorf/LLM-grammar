{
 "cells": [
  {
   "cell_type": "markdown",
   "id": "02c05721",
   "metadata": {},
   "source": [
    "# Constrained decoding"
   ]
  },
  {
   "cell_type": "markdown",
   "id": "573dbe7a",
   "metadata": {},
   "source": [
    "The goal of this experiment is to reject sentences that are too difficult as judged by the sentence classifiers."
   ]
  },
  {
   "cell_type": "code",
   "execution_count": 1,
   "id": "e636927d",
   "metadata": {},
   "outputs": [],
   "source": [
    "import vertexai\n",
    "import torch\n",
    "import numpy as np\n",
    "from vertexai.preview.language_models import TextGenerationModel\n",
    "import sys\n",
    "from sentence_transformers import SentenceTransformer\n",
    "\n",
    "import os\n",
    "sys.path.append(os.path.dirname(os.getcwd()))\n",
    "import config\n",
    "import pandas as pd\n",
    "os.environ[\"GOOGLE_APPLICATION_CREDENTIALS\"] = config.PATH_TO_GCP_CREDS\n",
    "\n",
    "vertexai.init(project=\"llm-grammar\", location=\"us-east4\")\n",
    "model = TextGenerationModel.from_pretrained(\"text-bison@001\")\n",
    "embeddings_model = SentenceTransformer('llmrails/ember-v1')\n",
    "egp = pd.read_csv('../dat/egponline.csv')"
   ]
  },
  {
   "cell_type": "code",
   "execution_count": 2,
   "id": "a6672a2b",
   "metadata": {},
   "outputs": [],
   "source": [
    "class FeedforwardNN(torch.nn.Module):\n",
    "    def __init__(self, input_dim, hidden_dim):\n",
    "        super(FeedforwardNN, self).__init__()\n",
    "        self.fc1 = torch.nn.Linear(input_dim, hidden_dim)\n",
    "        self.relu = torch.nn.ReLU()\n",
    "        self.fc2 = torch.nn.Linear(hidden_dim, 1)\n",
    "        self.sigmoid = torch.nn.Sigmoid()\n",
    "\n",
    "    def forward(self, x):\n",
    "        hidden = self.relu(self.fc1(x))\n",
    "        output = self.sigmoid(self.fc2(hidden))\n",
    "        return output"
   ]
  },
  {
   "cell_type": "code",
   "execution_count": 10,
   "id": "4ffb9c38",
   "metadata": {},
   "outputs": [
    {
     "data": {
      "text/plain": [
       "['Friends are people who we like, trust, and share common interests with']"
      ]
     },
     "execution_count": 10,
     "metadata": {},
     "output_type": "execute_result"
    }
   ],
   "source": [
    "def return_accepted(sentences, accepted_levels = ['A1','A2']):\n",
    "    embeddings = embeddings_model.encode(sentences)\n",
    "    sentences = np.array(sentences)\n",
    "    keep_indices = np.ones_like(sentences, dtype=bool)\n",
    "    \n",
    "    for model_file in os.listdir(\"../models\"):\n",
    "        construction = egp[egp['#']==int(model_file[:-4])].iloc[0]\n",
    "        if construction['Level'] not in accepted_levels:\n",
    "            model = torch.load(f\"../models/{model_file}\")\n",
    "            model.eval()\n",
    "            outputs = model(torch.Tensor(embeddings))\n",
    "            \n",
    "            keep_indices &= (outputs<0.5).squeeze().cpu().numpy()\n",
    "        \n",
    "    return list(sentences[keep_indices])\n",
    "\n",
    "sentences = ['Friends are people who we like, trust, and share common interests with']\n",
    "return_accepted(sentences)"
   ]
  },
  {
   "cell_type": "code",
   "execution_count": 13,
   "id": "18ef65c1",
   "metadata": {},
   "outputs": [
    {
     "name": "stdout",
     "output_type": "stream",
     "text": [
      "Returned 4 candidates\n",
      "Accepted 4 candidates\n",
      "Returned 4 candidates\n",
      "Accepted 4 candidates\n",
      "Returned 4 candidates\n",
      "Accepted 4 candidates\n",
      "Returned 4 candidates\n",
      "Accepted 4 candidates\n",
      "Returned 3 candidates\n",
      "Accepted 3 candidates\n",
      "Returned 4 candidates\n",
      "Accepted 4 candidates\n"
     ]
    }
   ],
   "source": [
    "text = \"Friends are people who you like and enjoy spending time with.\"\n",
    "\n",
    "while len(text) < 500:\n",
    "    parameters = {\n",
    "        \"candidate_count\": 8,\n",
    "        \"max_output_tokens\": 64,\n",
    "        \"stop_sequences\": [\n",
    "            \".\",\n",
    "            \"!\",\n",
    "            \"?\"\n",
    "        ],\n",
    "        \"temperature\": 0.9,\n",
    "        \"top_p\": 0.8,\n",
    "        \"top_k\": 40\n",
    "    }\n",
    "    model = TextGenerationModel.from_pretrained(\"text-bison\")\n",
    "    response = model.predict(text, **parameters)\n",
    "    sentences = [candidate.text.strip() for candidate in response.candidates]\n",
    "    print(f\"Returned {len(sentences)} candidates\")\n",
    "    sentences = return_accepted(sentences)\n",
    "    print(f\"Accepted {len(sentences)} candidates\")\n",
    "    if len(sentences):\n",
    "        text += sentences[0] + \". \""
   ]
  },
  {
   "cell_type": "code",
   "execution_count": 14,
   "id": "6f2fe65f",
   "metadata": {},
   "outputs": [
    {
     "data": {
      "text/plain": [
       "'Friends are people who you like and enjoy spending time with.Friends are people who share common interests and have a mutual bond. Friends are people who care about each other and support each other through thick and thin. Friends are an important part of our lives. Friends are important because they provide emotional support, companionship, and a sense of belonging. Friends are people who you like and enjoy spending time with. Friends are important because they provide emotional support, companionship, and a sense of belonging. '"
      ]
     },
     "execution_count": 14,
     "metadata": {},
     "output_type": "execute_result"
    }
   ],
   "source": [
    "text"
   ]
  },
  {
   "cell_type": "code",
   "execution_count": null,
   "id": "86f71960",
   "metadata": {},
   "outputs": [],
   "source": []
  }
 ],
 "metadata": {
  "kernelspec": {
   "display_name": "Python 3 (ipykernel)",
   "language": "python",
   "name": "python3"
  },
  "language_info": {
   "codemirror_mode": {
    "name": "ipython",
    "version": 3
   },
   "file_extension": ".py",
   "mimetype": "text/x-python",
   "name": "python",
   "nbconvert_exporter": "python",
   "pygments_lexer": "ipython3",
   "version": "3.11.5"
  }
 },
 "nbformat": 4,
 "nbformat_minor": 5
}
